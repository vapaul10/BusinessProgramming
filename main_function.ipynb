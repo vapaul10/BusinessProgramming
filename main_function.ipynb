{
  "nbformat": 4,
  "nbformat_minor": 0,
  "metadata": {
    "colab": {
      "name": "main_function.ipynb",
      "provenance": [],
      "collapsed_sections": [],
      "authorship_tag": "ABX9TyMgzpCNRh5Rx2mVTqrR+MP5",
      "include_colab_link": true
    },
    "kernelspec": {
      "name": "python3",
      "display_name": "Python 3"
    }
  },
  "cells": [
    {
      "cell_type": "markdown",
      "metadata": {
        "id": "view-in-github",
        "colab_type": "text"
      },
      "source": [
        "<a href=\"https://colab.research.google.com/github/vapaul10/BusinessProgramming/blob/master/main_function.ipynb\" target=\"_parent\"><img src=\"https://colab.research.google.com/assets/colab-badge.svg\" alt=\"Open In Colab\"/></a>"
      ]
    },
    {
      "cell_type": "markdown",
      "metadata": {
        "id": "xwW9U0Ckpt1I"
      },
      "source": [
        "main function define"
      ]
    },
    {
      "cell_type": "code",
      "metadata": {
        "id": "mI8FsYkXps2_",
        "outputId": "1cf7ecb0-4e62-4b61-fc78-09fc4adc8b83",
        "colab": {
          "base_uri": "https://localhost:8080/",
          "height": 131
        }
      },
      "source": [
        "\"\"\" File: computesquare.py\"\"\"\n",
        "\"\"\" Illustrates the definition of a main function.  \"\"\"\n",
        "\n",
        "def main():\n",
        "    \"\"\"The main function for this script.\"\"\"\n",
        "    number = float(input(\"Enter a number: \"))\n",
        "    result = square(number)\n",
        "    print(\"The square of\", number, \"is\", result)\n",
        "\n",
        "def square(x):    \n",
        "    \"\"\"Returns the square of x.\"\"\"\n",
        "    return x * x\n",
        "\n",
        "#The entry point for program execution\n",
        "if __name__ == \"__main:\"__\n",
        "    main()\n",
        "\n"
      ],
      "execution_count": 8,
      "outputs": [
        {
          "output_type": "error",
          "ename": "SyntaxError",
          "evalue": "ignored",
          "traceback": [
            "\u001b[0;36m  File \u001b[0;32m\"<ipython-input-8-2806fec26887>\"\u001b[0;36m, line \u001b[0;32m15\u001b[0m\n\u001b[0;31m    if __name__ == \"__main:\"__\u001b[0m\n\u001b[0m                             ^\u001b[0m\n\u001b[0;31mSyntaxError\u001b[0m\u001b[0;31m:\u001b[0m invalid syntax\n"
          ]
        }
      ]
    },
    {
      "cell_type": "code",
      "metadata": {
        "id": "_a3u2ddkrfS1"
      },
      "source": [
        ""
      ],
      "execution_count": null,
      "outputs": []
    },
    {
      "cell_type": "code",
      "metadata": {
        "id": "AJi2mYFFrfZb"
      },
      "source": [
        ""
      ],
      "execution_count": null,
      "outputs": []
    }
  ]
}