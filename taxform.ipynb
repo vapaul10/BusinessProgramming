{
  "nbformat": 4,
  "nbformat_minor": 0,
  "metadata": {
    "colab": {
      "name": " taxform.ipynb",
      "provenance": [],
      "authorship_tag": "ABX9TyPbxVDyvvDneALeGp968dvy",
      "include_colab_link": true
    },
    "kernelspec": {
      "name": "python3",
      "display_name": "Python 3"
    }
  },
  "cells": [
    {
      "cell_type": "markdown",
      "metadata": {
        "id": "view-in-github",
        "colab_type": "text"
      },
      "source": [
        "<a href=\"https://colab.research.google.com/github/vapaul10/BusinessProgramming/blob/Case2.2/taxform.ipynb\" target=\"_parent\"><img src=\"https://colab.research.google.com/assets/colab-badge.svg\" alt=\"Open In Colab\"/></a>"
      ]
    },
    {
      "cell_type": "code",
      "metadata": {
        "id": "iIOqo6BNSKbL",
        "colab_type": "code",
        "colab": {
          "base_uri": "https://localhost:8080/",
          "height": 69
        },
        "outputId": "0d75e0cb-eb59-4347-a844-ec493db04393"
      },
      "source": [
        "\"\"\"\n",
        "Program: taxform.py\n",
        "Author: Valeri Paul\n",
        "Purpose:  Calculate Personal Income Tax.\n",
        "1. Significant constants\n",
        "\t  tax rate\n",
        "\t  standard deduction\n",
        "\t  deduction per dependent\n",
        "2. The inputs are\n",
        "\t  gross income  number of dependents\n",
        "3. Compute:\n",
        "  \ttaxable income = gross income - the standard deduction\n",
        "\t\t  - a deduction for each dependent\n",
        "  \tincome tax = is a fixed percentage of the taxable income\n",
        "4. The outputs are\n",
        "\t    the income tax \n",
        "      \n",
        "      Note:  The real challenge is coming up with sets of inputs that can reveal an error.\n",
        "  \"\"\"\n",
        "\n",
        "#Initialize the constants\n",
        "TAX_RATE = 0.20\n",
        "STANDARD_DEDUCTION = 10000.0\n",
        "DEPENDENT_DEDUCTION = 3000.0\n",
        "\n",
        "#Request the inputs\n",
        "grossIncome = float(input(\"Enter the gross income:\"))\n",
        "numDependents = int(input(\"Enter the number of dependents:\"))\n",
        "\n",
        "#Compute the income tax\n",
        "taxableIncome = grossIncome - STANDARD_DEDUCTION -\\\n",
        "\tDEPENDENT_DEDUCTION * numDependents\n",
        "incomeTax = taxableIncome * TAX_RATE\n",
        "\n",
        "#Display the income tax\n",
        "print(\"The income tax is $\"+ str(incomeTax))\n",
        "\n"
      ],
      "execution_count": 2,
      "outputs": [
        {
          "output_type": "stream",
          "text": [
            "Enter the gross income:10000\n",
            "Enter the number of dependents:0\n",
            "The income tax is $0.0\n"
          ],
          "name": "stdout"
        }
      ]
    }
  ]
}