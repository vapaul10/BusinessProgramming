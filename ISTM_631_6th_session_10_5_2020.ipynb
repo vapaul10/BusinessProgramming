{
  "nbformat": 4,
  "nbformat_minor": 0,
  "metadata": {
    "colab": {
      "name": "ISTM 631 6th session 10/5/2020.ipynb",
      "provenance": [],
      "include_colab_link": true
    },
    "kernelspec": {
      "name": "python3",
      "display_name": "Python 3"
    }
  },
  "cells": [
    {
      "cell_type": "markdown",
      "metadata": {
        "id": "view-in-github",
        "colab_type": "text"
      },
      "source": [
        "<a href=\"https://colab.research.google.com/github/vapaul10/BusinessProgramming/blob/master/ISTM_631_6th_session_10_5_2020.ipynb\" target=\"_parent\"><img src=\"https://colab.research.google.com/assets/colab-badge.svg\" alt=\"Open In Colab\"/></a>"
      ]
    },
    {
      "cell_type": "markdown",
      "metadata": {
        "id": "w4U5JB3iRhAo"
      },
      "source": [
        "web scraping using different libraries and modules \n",
        "\n",
        "making a data pipeline\n",
        "\n",
        "making a predictive model"
      ]
    },
    {
      "cell_type": "code",
      "metadata": {
        "id": "ePxoi51GPAw1",
        "outputId": "242e3203-9c46-4bcd-d4b0-40dfd8e369d7",
        "colab": {
          "base_uri": "https://localhost:8080/",
          "height": 34
        }
      },
      "source": [
        "import pandas as pd\n",
        "import time\n",
        "\n",
        "article = pd.read_html('https://en.wikipedia.org/wiki/2018_FIFA_World_Cup',header=0)\n",
        "df = article[5]\n",
        "count = 0\n",
        "for i in range(0,len(article)):\n",
        "  df = article[i]\n",
        "  #print(df.head())\n",
        "  count += 1\n",
        "count"
      ],
      "execution_count": null,
      "outputs": [
        {
          "output_type": "execute_result",
          "data": {
            "text/plain": [
              "96"
            ]
          },
          "metadata": {
            "tags": []
          },
          "execution_count": 1
        }
      ]
    },
    {
      "cell_type": "code",
      "metadata": {
        "id": "Ebyl6_iNVPCA",
        "outputId": "5efb024f-acde-4f09-d4f9-a26d509840bb",
        "colab": {
          "base_uri": "https://localhost:8080/",
          "height": 80
        }
      },
      "source": [
        "article[12]"
      ],
      "execution_count": null,
      "outputs": [
        {
          "output_type": "execute_result",
          "data": {
            "text/html": [
              "<div>\n",
              "<style scoped>\n",
              "    .dataframe tbody tr th:only-of-type {\n",
              "        vertical-align: middle;\n",
              "    }\n",
              "\n",
              "    .dataframe tbody tr th {\n",
              "        vertical-align: top;\n",
              "    }\n",
              "\n",
              "    .dataframe thead th {\n",
              "        text-align: right;\n",
              "    }\n",
              "</style>\n",
              "<table border=\"1\" class=\"dataframe\">\n",
              "  <thead>\n",
              "    <tr style=\"text-align: right;\">\n",
              "      <th></th>\n",
              "      <th>Saudi Arabia</th>\n",
              "      <th>2–1</th>\n",
              "      <th>Egypt</th>\n",
              "    </tr>\n",
              "  </thead>\n",
              "  <tbody>\n",
              "    <tr>\n",
              "      <th>0</th>\n",
              "      <td>Al-Faraj 45+6' (pen.) Al-Dawsari 90+5'</td>\n",
              "      <td>Report</td>\n",
              "      <td>Salah 22'</td>\n",
              "    </tr>\n",
              "  </tbody>\n",
              "</table>\n",
              "</div>"
            ],
            "text/plain": [
              "                             Saudi Arabia     2–1      Egypt\n",
              "0  Al-Faraj 45+6' (pen.) Al-Dawsari 90+5'  Report  Salah 22'"
            ]
          },
          "metadata": {
            "tags": []
          },
          "execution_count": 3
        }
      ]
    },
    {
      "cell_type": "markdown",
      "metadata": {
        "id": "mib1u8h2WJ2M"
      },
      "source": [
        "we have different approaches to get data from web:\n",
        "\n",
        "1- to use request and urls"
      ]
    },
    {
      "cell_type": "code",
      "metadata": {
        "id": "_ABQ0WqzW2T6"
      },
      "source": [
        "import bs4\n",
        "import pandas as pd\n",
        "import requests"
      ],
      "execution_count": null,
      "outputs": []
    },
    {
      "cell_type": "code",
      "metadata": {
        "id": "3VfRl5cpYpo_"
      },
      "source": [
        "def numeric_value(movie, tag, class_=None, order=None):\n",
        "    if order:\n",
        "        if len(movie.findAll(tag, class_)) > 1:\n",
        "            to_extract = movie.findAll(tag, class_)[order]['data-value']\n",
        "        else:\n",
        "            to_extract = None\n",
        "    else:\n",
        "        to_extract = movie.find(tag, class_)['data-value']\n",
        "\n",
        "    return to_extract\n",
        "\n",
        "\n",
        "def text_value(movie, tag, class_=None):\n",
        "    if movie.find(tag, class_):\n",
        "        return movie.find(tag, class_).text\n",
        "    else:\n",
        "        return\n",
        "\n",
        "\n",
        "def nested_text_value(movie, tag_1, class_1, tag_2, class_2, order=None):\n",
        "    if not order:\n",
        "        return movie.find(tag_1, class_1).find(tag_2, class_2).text\n",
        "    else:\n",
        "        return [val.text for val in movie.find(tag_1, class_1).findAll(tag_2, class_2)[order]]\n",
        "\n",
        "\n",
        "def extract_attribute(soup, tag_1, class_1='', tag_2='', class_2='',\n",
        "                      text_attribute=True, order=None, nested=False):\n",
        "    movies = soup.findAll('div', class_='lister-item-content')\n",
        "    data_list = []\n",
        "    for movie in movies:\n",
        "        if text_attribute:\n",
        "            if nested:\n",
        "                data_list.append(nested_text_value(movie, tag_1, class_1, tag_2, class_2, order))\n",
        "            else:\n",
        "                data_list.append(text_value(movie, tag_1, class_1))\n",
        "        else:\n",
        "            data_list.append(numeric_value(movie, tag_1, class_1, order))\n",
        "\n",
        "    return data_list\n"
      ],
      "execution_count": 1,
      "outputs": []
    },
    {
      "cell_type": "code",
      "metadata": {
        "id": "6qhl07lEVnVD",
        "outputId": "a866bd2d-75be-4ca0-e2b0-ea3135b2578f",
        "colab": {
          "base_uri": "https://localhost:8080/",
          "height": 320
        }
      },
      "source": [
        "url = 'https://www.imdb.com/search/title/?count=100&groups=top_1000&sort=user_rating'\n",
        "def get_page_contents(url):\n",
        "  page = requests.get(url, headers={\"Accept-Language\": \"en-US\"})\n",
        "  return bs4.BeautifulSoup(page.text, \"html.parser\")\n",
        "\n",
        "soup = get_page_contents(url)"
      ],
      "execution_count": 4,
      "outputs": [
        {
          "output_type": "error",
          "ename": "NameError",
          "evalue": "ignored",
          "traceback": [
            "\u001b[0;31m---------------------------------------------------------------------------\u001b[0m",
            "\u001b[0;31mNameError\u001b[0m                                 Traceback (most recent call last)",
            "\u001b[0;32m<ipython-input-4-15718b7887c9>\u001b[0m in \u001b[0;36m<module>\u001b[0;34m()\u001b[0m\n\u001b[1;32m      4\u001b[0m   \u001b[0;32mreturn\u001b[0m \u001b[0mbs4\u001b[0m\u001b[0;34m.\u001b[0m\u001b[0mBeautifulSoup\u001b[0m\u001b[0;34m(\u001b[0m\u001b[0mpage\u001b[0m\u001b[0;34m.\u001b[0m\u001b[0mtext\u001b[0m\u001b[0;34m,\u001b[0m \u001b[0;34m\"html.parser\"\u001b[0m\u001b[0;34m)\u001b[0m\u001b[0;34m\u001b[0m\u001b[0;34m\u001b[0m\u001b[0m\n\u001b[1;32m      5\u001b[0m \u001b[0;34m\u001b[0m\u001b[0m\n\u001b[0;32m----> 6\u001b[0;31m \u001b[0msoup\u001b[0m \u001b[0;34m=\u001b[0m \u001b[0mget_page_contents\u001b[0m\u001b[0;34m(\u001b[0m\u001b[0murl\u001b[0m\u001b[0;34m)\u001b[0m\u001b[0;34m\u001b[0m\u001b[0;34m\u001b[0m\u001b[0m\n\u001b[0m",
            "\u001b[0;32m<ipython-input-4-15718b7887c9>\u001b[0m in \u001b[0;36mget_page_contents\u001b[0;34m(url)\u001b[0m\n\u001b[1;32m      1\u001b[0m \u001b[0murl\u001b[0m \u001b[0;34m=\u001b[0m \u001b[0;34m'https://www.imdb.com/search/title/?count=100&groups=top_1000&sort=user_rating'\u001b[0m\u001b[0;34m\u001b[0m\u001b[0;34m\u001b[0m\u001b[0m\n\u001b[1;32m      2\u001b[0m \u001b[0;32mdef\u001b[0m \u001b[0mget_page_contents\u001b[0m\u001b[0;34m(\u001b[0m\u001b[0murl\u001b[0m\u001b[0;34m)\u001b[0m\u001b[0;34m:\u001b[0m\u001b[0;34m\u001b[0m\u001b[0;34m\u001b[0m\u001b[0m\n\u001b[0;32m----> 3\u001b[0;31m   \u001b[0mpage\u001b[0m \u001b[0;34m=\u001b[0m \u001b[0mrequests\u001b[0m\u001b[0;34m.\u001b[0m\u001b[0mget\u001b[0m\u001b[0;34m(\u001b[0m\u001b[0murl\u001b[0m\u001b[0;34m,\u001b[0m \u001b[0mheaders\u001b[0m\u001b[0;34m=\u001b[0m\u001b[0;34m{\u001b[0m\u001b[0;34m\"Accept-Language\"\u001b[0m\u001b[0;34m:\u001b[0m \u001b[0;34m\"en-US\"\u001b[0m\u001b[0;34m}\u001b[0m\u001b[0;34m)\u001b[0m\u001b[0;34m\u001b[0m\u001b[0;34m\u001b[0m\u001b[0m\n\u001b[0m\u001b[1;32m      4\u001b[0m   \u001b[0;32mreturn\u001b[0m \u001b[0mbs4\u001b[0m\u001b[0;34m.\u001b[0m\u001b[0mBeautifulSoup\u001b[0m\u001b[0;34m(\u001b[0m\u001b[0mpage\u001b[0m\u001b[0;34m.\u001b[0m\u001b[0mtext\u001b[0m\u001b[0;34m,\u001b[0m \u001b[0;34m\"html.parser\"\u001b[0m\u001b[0;34m)\u001b[0m\u001b[0;34m\u001b[0m\u001b[0;34m\u001b[0m\u001b[0m\n\u001b[1;32m      5\u001b[0m \u001b[0;34m\u001b[0m\u001b[0m\n",
            "\u001b[0;31mNameError\u001b[0m: name 'requests' is not defined"
          ]
        }
      ]
    },
    {
      "cell_type": "code",
      "metadata": {
        "id": "Kp2AxEvgV-lj",
        "outputId": "480bd586-6811-4a60-f8c7-123505d441d3",
        "colab": {
          "base_uri": "https://localhost:8080/",
          "height": 487
        }
      },
      "source": [
        "titles = extract_attribute(soup, 'a')\n",
        "release = extract_attribute(soup, 'span', 'lister-item-year text-muted unbold')\n",
        "audience_rating = extract_attribute(soup, 'span', 'certificate')\n",
        "runtime = extract_attribute(soup, 'span', 'runtime')\n",
        "genre = extract_attribute(soup, 'span', 'genre')\n",
        "imdb_rating = extract_attribute(soup, 'div', 'inline-block ratings-imdb-rating', False)\n",
        "votes = extract_attribute(soup, 'span' , {'name' : 'nv'}, False, 0)\n",
        "earnings = extract_attribute(soup, 'span' , {'name' : 'nv'}, False, 1)\n",
        "#directors = extract_attribute(soup, 'p', '', 'a', '', True, 0, True)\n",
        "actors = extract_attribute(soup, 'p', '', 'a', '', True, slice(1, 5, None), True)\n",
        "\n",
        "\n",
        "df_dict = {'Title': titles, 'Relase': release, 'Audience Rating': audience_rating,\n",
        "           'Runtime': runtime, 'Genre': genre, 'IMDB Rating': imdb_rating,\n",
        "           'Votes': votes, 'Box Office Earnings': earnings, \n",
        "           'Actors': actors} #'Director': directors,\n",
        "df = pd.DataFrame(df_dict)\n",
        "df"
      ],
      "execution_count": null,
      "outputs": [
        {
          "output_type": "execute_result",
          "data": {
            "text/html": [
              "<div>\n",
              "<style scoped>\n",
              "    .dataframe tbody tr th:only-of-type {\n",
              "        vertical-align: middle;\n",
              "    }\n",
              "\n",
              "    .dataframe tbody tr th {\n",
              "        vertical-align: top;\n",
              "    }\n",
              "\n",
              "    .dataframe thead th {\n",
              "        text-align: right;\n",
              "    }\n",
              "</style>\n",
              "<table border=\"1\" class=\"dataframe\">\n",
              "  <thead>\n",
              "    <tr style=\"text-align: right;\">\n",
              "      <th></th>\n",
              "      <th>Title</th>\n",
              "      <th>Relase</th>\n",
              "      <th>Audience Rating</th>\n",
              "      <th>Runtime</th>\n",
              "      <th>Genre</th>\n",
              "      <th>IMDB Rating</th>\n",
              "      <th>Votes</th>\n",
              "      <th>Box Office Earnings</th>\n",
              "      <th>Actors</th>\n",
              "    </tr>\n",
              "  </thead>\n",
              "  <tbody>\n",
              "    <tr>\n",
              "      <th>0</th>\n",
              "      <td>The Shawshank Redemption</td>\n",
              "      <td>(1994)</td>\n",
              "      <td>R</td>\n",
              "      <td>142 min</td>\n",
              "      <td>\\nDrama</td>\n",
              "      <td>\\n\\n9.3\\n</td>\n",
              "      <td>2,290,453</td>\n",
              "      <td>2,290,453</td>\n",
              "      <td>[]</td>\n",
              "    </tr>\n",
              "    <tr>\n",
              "      <th>1</th>\n",
              "      <td>The Godfather</td>\n",
              "      <td>(1972)</td>\n",
              "      <td>R</td>\n",
              "      <td>175 min</td>\n",
              "      <td>\\nCrime, Drama</td>\n",
              "      <td>\\n\\n9.2\\n</td>\n",
              "      <td>1,580,220</td>\n",
              "      <td>1,580,220</td>\n",
              "      <td>[]</td>\n",
              "    </tr>\n",
              "    <tr>\n",
              "      <th>2</th>\n",
              "      <td>The Dark Knight</td>\n",
              "      <td>(2008)</td>\n",
              "      <td>PG-13</td>\n",
              "      <td>152 min</td>\n",
              "      <td>\\nAction, Crime, Drama</td>\n",
              "      <td>\\n\\n9.0\\n</td>\n",
              "      <td>2,255,578</td>\n",
              "      <td>2,255,578</td>\n",
              "      <td>[]</td>\n",
              "    </tr>\n",
              "    <tr>\n",
              "      <th>3</th>\n",
              "      <td>The Godfather: Part II</td>\n",
              "      <td>(1974)</td>\n",
              "      <td>R</td>\n",
              "      <td>202 min</td>\n",
              "      <td>\\nCrime, Drama</td>\n",
              "      <td>\\n\\n9.0\\n</td>\n",
              "      <td>1,104,034</td>\n",
              "      <td>1,104,034</td>\n",
              "      <td>[]</td>\n",
              "    </tr>\n",
              "    <tr>\n",
              "      <th>4</th>\n",
              "      <td>The Lord of the Rings: The Return of the King</td>\n",
              "      <td>(2003)</td>\n",
              "      <td>PG-13</td>\n",
              "      <td>201 min</td>\n",
              "      <td>\\nAction, Adventure, Drama</td>\n",
              "      <td>\\n\\n8.9\\n</td>\n",
              "      <td>1,610,555</td>\n",
              "      <td>1,610,555</td>\n",
              "      <td>[]</td>\n",
              "    </tr>\n",
              "    <tr>\n",
              "      <th>...</th>\n",
              "      <td>...</td>\n",
              "      <td>...</td>\n",
              "      <td>...</td>\n",
              "      <td>...</td>\n",
              "      <td>...</td>\n",
              "      <td>...</td>\n",
              "      <td>...</td>\n",
              "      <td>...</td>\n",
              "      <td>...</td>\n",
              "    </tr>\n",
              "    <tr>\n",
              "      <th>95</th>\n",
              "      <td>Snatch</td>\n",
              "      <td>(2000)</td>\n",
              "      <td>R</td>\n",
              "      <td>102 min</td>\n",
              "      <td>\\nComedy, Crime</td>\n",
              "      <td>\\n\\n8.3\\n</td>\n",
              "      <td>769,296</td>\n",
              "      <td>769,296</td>\n",
              "      <td>[]</td>\n",
              "    </tr>\n",
              "    <tr>\n",
              "      <th>96</th>\n",
              "      <td>Requiem for a Dream</td>\n",
              "      <td>(2000)</td>\n",
              "      <td>R</td>\n",
              "      <td>102 min</td>\n",
              "      <td>\\nDrama</td>\n",
              "      <td>\\n\\n8.3\\n</td>\n",
              "      <td>751,729</td>\n",
              "      <td>751,729</td>\n",
              "      <td>[]</td>\n",
              "    </tr>\n",
              "    <tr>\n",
              "      <th>97</th>\n",
              "      <td>American Beauty</td>\n",
              "      <td>(1999)</td>\n",
              "      <td>R</td>\n",
              "      <td>122 min</td>\n",
              "      <td>\\nDrama</td>\n",
              "      <td>\\n\\n8.3\\n</td>\n",
              "      <td>1,052,671</td>\n",
              "      <td>1,052,671</td>\n",
              "      <td>[]</td>\n",
              "    </tr>\n",
              "    <tr>\n",
              "      <th>98</th>\n",
              "      <td>Good Will Hunting</td>\n",
              "      <td>(1997)</td>\n",
              "      <td>R</td>\n",
              "      <td>126 min</td>\n",
              "      <td>\\nDrama, Romance</td>\n",
              "      <td>\\n\\n8.3\\n</td>\n",
              "      <td>842,006</td>\n",
              "      <td>842,006</td>\n",
              "      <td>[]</td>\n",
              "    </tr>\n",
              "    <tr>\n",
              "      <th>99</th>\n",
              "      <td>Children of Heaven</td>\n",
              "      <td>(1997)</td>\n",
              "      <td>PG</td>\n",
              "      <td>89 min</td>\n",
              "      <td>\\nDrama, Family, Sport</td>\n",
              "      <td>\\n\\n8.3\\n</td>\n",
              "      <td>63,047</td>\n",
              "      <td>63,047</td>\n",
              "      <td>[]</td>\n",
              "    </tr>\n",
              "  </tbody>\n",
              "</table>\n",
              "<p>100 rows × 9 columns</p>\n",
              "</div>"
            ],
            "text/plain": [
              "                                            Title  ... Actors\n",
              "0                        The Shawshank Redemption  ...     []\n",
              "1                                   The Godfather  ...     []\n",
              "2                                 The Dark Knight  ...     []\n",
              "3                          The Godfather: Part II  ...     []\n",
              "4   The Lord of the Rings: The Return of the King  ...     []\n",
              "..                                            ...  ...    ...\n",
              "95                                         Snatch  ...     []\n",
              "96                            Requiem for a Dream  ...     []\n",
              "97                                American Beauty  ...     []\n",
              "98                              Good Will Hunting  ...     []\n",
              "99                             Children of Heaven  ...     []\n",
              "\n",
              "[100 rows x 9 columns]"
            ]
          },
          "metadata": {
            "tags": []
          },
          "execution_count": 15
        }
      ]
    },
    {
      "cell_type": "code",
      "metadata": {
        "id": "JN7ri8JsXV_H",
        "outputId": "98ce8fcb-1dbd-4e6d-8f0e-fcb14f4168bf",
        "colab": {
          "base_uri": "https://localhost:8080/",
          "height": 34
        }
      },
      "source": [
        "imdb_rating[0].split()"
      ],
      "execution_count": null,
      "outputs": [
        {
          "output_type": "execute_result",
          "data": {
            "text/plain": [
              "['9.3']"
            ]
          },
          "metadata": {
            "tags": []
          },
          "execution_count": 13
        }
      ]
    },
    {
      "cell_type": "code",
      "metadata": {
        "id": "97ppHUB_aBv-"
      },
      "source": [
        "df.to_csv('table')"
      ],
      "execution_count": null,
      "outputs": []
    },
    {
      "cell_type": "code",
      "metadata": {
        "id": "ByZluRR0ZAae"
      },
      "source": [
        "base_url = requests.get('https://www.indeed.com/cmp/Google/reviews?fcountry=ALL&start=', timeout=5)\n",
        "print(base_url.text)"
      ],
      "execution_count": null,
      "outputs": []
    },
    {
      "cell_type": "code",
      "metadata": {
        "id": "5wa2G8VqZzIK"
      },
      "source": [
        "def parse(full_url):\n",
        "    page_content = BeautifulSoup(full_url.content, 'lxml')\n",
        "    containers = page_content.findAll('div', \n",
        "                 {'class':'cmp-Review-container'})\n",
        "    df = pd.DataFrame(columns = \n",
        "         ['rating', 'rating_title',  'rating_description',\n",
        "                         'rating_pros', 'rating_cons'])\n",
        "    \n",
        "    for item in containers:\n",
        "        try:\n",
        "            rating = item.find('div', \n",
        "                     {'class': 'cmp-ReviewRating-text'}).text.replace('\\n', '')\n",
        "        except:\n",
        "            rating = None\n",
        "        try:\n",
        "            rating_title = item.find('div', \n",
        "                           {'class': 'cmp-Review-title'}).text.replace('\\n', '')\n",
        "        except:\n",
        "            rating_title = None\n",
        "        try:\n",
        "            rating_description = item.find('span', \n",
        "                                 {'itemprop': 'reviewBody'}).text.replace('\\r', '. ')\n",
        "        except:\n",
        "            rating_description = None\n",
        "        try:\n",
        "            rating_pros = item.find('div', \n",
        "                          {'class': 'cmp-ReviewProsCons-prosText'}).text.replace('\\n', '')\n",
        "        except:\n",
        "            rating_pros = None\n",
        "        try:\n",
        "            rating_cons = item.find('div', \n",
        "                          {'class': 'cmp-ReviewProsCons-consText'}).text.replace('\\n', '')\n",
        "        except:\n",
        "            rating_cons = None\n",
        "        df = df.append({'rating': rating, \n",
        "             'rating_title': rating_title, \n",
        "             'rating_description': rating_description,\n",
        "             'rating_pros': rating_pros, \n",
        "             'rating_cons': rating_cons}, ignore_index=True)\n",
        "    return df"
      ],
      "execution_count": null,
      "outputs": []
    },
    {
      "cell_type": "code",
      "metadata": {
        "id": "laYWXIWwaW9X"
      },
      "source": [
        "def parse(full_url):\n",
        "    page_content = BeautifulSoup(full_url.content, 'lxml')\n",
        "    containers = page_content.findAll('div', \n",
        "                 {'class':'cmp-Review-container'})\n",
        "    df = pd.DataFrame(columns = \n",
        "         ['rating', 'rating_title',  'rating_description',\n",
        "                         'rating_pros', 'rating_cons'])\n",
        "    \n",
        "    for item in containers:        \n",
        "        try:\n",
        "            rating = item.find('div', \n",
        "                     {'class': 'cmp-ReviewRating-text'}).text.replace('\\n', '')\n",
        "        except:\n",
        "            rating = None\n",
        "        try:\n",
        "            rating_title = item.find('div', \n",
        "                           {'class': 'cmp-Review-title'}).text.replace('\\n', '')\n",
        "        except:\n",
        "            rating_title = None\n",
        "        try:\n",
        "            rating_description = item.find('span', \n",
        "                                 {'itemprop': 'reviewBody'}).text.replace('\\r', '. ')\n",
        "        except:\n",
        "            rating_description = None\n",
        "        try:\n",
        "            rating_pros = item.find('div', \n",
        "                          {'class': 'cmp-ReviewProsCons-prosText'}).text.replace('\\n', '')\n",
        "        except:\n",
        "            rating_pros = None\n",
        "        try:\n",
        "            rating_cons = item.find('div', \n",
        "                          {'class': 'cmp-ReviewProsCons-consText'}).text.replace('\\n', '')\n",
        "        except:\n",
        "            rating_cons = None\n",
        "        df = df.append({'rating': rating, \n",
        "             'rating_title': rating_title, \n",
        "             'rating_description': rating_description,\n",
        "             'rating_pros': rating_pros, \n",
        "             'rating_cons': rating_cons}, ignore_index=True)\n",
        "    return df"
      ],
      "execution_count": null,
      "outputs": []
    },
    {
      "cell_type": "code",
      "metadata": {
        "id": "0s4ympkJar7l"
      },
      "source": [
        "from urllib.request import urlopen\n",
        "from bs4 import BeautifulSoup"
      ],
      "execution_count": null,
      "outputs": []
    },
    {
      "cell_type": "code",
      "metadata": {
        "id": "31CmyH5XaUFc"
      },
      "source": [
        "base_url = 'https://www.indeed.com/cmp/Google/reviews?fcountry=ALL&start='\n",
        "all_reviews_df = pd.DataFrame(columns = ['rating', 'rating_title', \n",
        "'rating_description','rating_pros', 'rating_cons'])\n",
        "num_reviews = 20\n",
        "# you can adjust this number on how many reviews you which to scrape\n",
        "while num_reviews < 3000:  \n",
        "    \n",
        "    full_url = base_url + str(num_reviews)\n",
        "    \n",
        "    get_url = requests.get(full_url, timeout=5)  \n",
        "        \n",
        "    partial_reviews_df = parse(get_url)   \n",
        "    all_reviews_df = all_reviews_df.append(\n",
        "                     partial_reviews_df, ignore_index=True) \n",
        "    \n",
        "    num_reviews += 20"
      ],
      "execution_count": null,
      "outputs": []
    },
    {
      "cell_type": "code",
      "metadata": {
        "id": "uPFCjKYwbO8G"
      },
      "source": [
        "all_reviews_df.to_csv('indeed_scrape.csv')"
      ],
      "execution_count": null,
      "outputs": []
    },
    {
      "cell_type": "code",
      "metadata": {
        "id": "T48ohxSgbSy1",
        "outputId": "6fba6420-0b99-40ff-e17d-77da71daf5a4",
        "colab": {
          "base_uri": "https://localhost:8080/",
          "height": 589
        }
      },
      "source": [
        "all_reviews_df"
      ],
      "execution_count": null,
      "outputs": [
        {
          "output_type": "execute_result",
          "data": {
            "text/html": [
              "<div>\n",
              "<style scoped>\n",
              "    .dataframe tbody tr th:only-of-type {\n",
              "        vertical-align: middle;\n",
              "    }\n",
              "\n",
              "    .dataframe tbody tr th {\n",
              "        vertical-align: top;\n",
              "    }\n",
              "\n",
              "    .dataframe thead th {\n",
              "        text-align: right;\n",
              "    }\n",
              "</style>\n",
              "<table border=\"1\" class=\"dataframe\">\n",
              "  <thead>\n",
              "    <tr style=\"text-align: right;\">\n",
              "      <th></th>\n",
              "      <th>rating</th>\n",
              "      <th>rating_title</th>\n",
              "      <th>rating_description</th>\n",
              "      <th>rating_pros</th>\n",
              "      <th>rating_cons</th>\n",
              "    </tr>\n",
              "  </thead>\n",
              "  <tbody>\n",
              "    <tr>\n",
              "      <th>0</th>\n",
              "      <td>4.0</td>\n",
              "      <td>Great experience</td>\n",
              "      <td>-Worked as a contractor and was able to meet i...</td>\n",
              "      <td>None</td>\n",
              "      <td>None</td>\n",
              "    </tr>\n",
              "    <tr>\n",
              "      <th>1</th>\n",
              "      <td>5.0</td>\n",
              "      <td>typest</td>\n",
              "      <td>ndeed is a fantastic place to work and your co...</td>\n",
              "      <td>culture</td>\n",
              "      <td>None</td>\n",
              "    </tr>\n",
              "    <tr>\n",
              "      <th>2</th>\n",
              "      <td>5.0</td>\n",
              "      <td>Fun Place to work</td>\n",
              "      <td>Google has their own culture, what you see in ...</td>\n",
              "      <td>Free lunches, Lear alot, gBus commute</td>\n",
              "      <td>No cons</td>\n",
              "    </tr>\n",
              "    <tr>\n",
              "      <th>3</th>\n",
              "      <td>4.0</td>\n",
              "      <td>Contracting at Google is what you make it</td>\n",
              "      <td>The potential upward mobility as a contractor ...</td>\n",
              "      <td>Free lunch, Upward mobility</td>\n",
              "      <td>Work life balance, TVC inequality</td>\n",
              "    </tr>\n",
              "    <tr>\n",
              "      <th>4</th>\n",
              "      <td>3.0</td>\n",
              "      <td>Google Cloud has a lot of challenges</td>\n",
              "      <td>Working at Google cloud has many challenges, a...</td>\n",
              "      <td>Good benefits, the company is going after the ...</td>\n",
              "      <td>Unprepared management, to many escalation leve...</td>\n",
              "    </tr>\n",
              "    <tr>\n",
              "      <th>...</th>\n",
              "      <td>...</td>\n",
              "      <td>...</td>\n",
              "      <td>...</td>\n",
              "      <td>...</td>\n",
              "      <td>...</td>\n",
              "    </tr>\n",
              "    <tr>\n",
              "      <th>2935</th>\n",
              "      <td>5.0</td>\n",
              "      <td>Fun workplace</td>\n",
              "      <td>My everyday routine at Google was to correct a...</td>\n",
              "      <td>Free Meals.</td>\n",
              "      <td>None</td>\n",
              "    </tr>\n",
              "    <tr>\n",
              "      <th>2936</th>\n",
              "      <td>4.0</td>\n",
              "      <td>Productive</td>\n",
              "      <td>The position was very productive. Help manage ...</td>\n",
              "      <td>Free lunches, Great Pay</td>\n",
              "      <td>Short Brakes</td>\n",
              "    </tr>\n",
              "    <tr>\n",
              "      <th>2937</th>\n",
              "      <td>5.0</td>\n",
              "      <td>Freedom working from home!</td>\n",
              "      <td>I got to work at home on my computer everyday ...</td>\n",
              "      <td>Freedom working from home!</td>\n",
              "      <td>Benefits weren't great</td>\n",
              "    </tr>\n",
              "    <tr>\n",
              "      <th>2938</th>\n",
              "      <td>5.0</td>\n",
              "      <td>Freedom working from home!</td>\n",
              "      <td>I got to work at home on my computer everyday ...</td>\n",
              "      <td>Freedom working from home!</td>\n",
              "      <td>Benefits weren't great</td>\n",
              "    </tr>\n",
              "    <tr>\n",
              "      <th>2939</th>\n",
              "      <td>5.0</td>\n",
              "      <td>What I got out of GSX</td>\n",
              "      <td>Its a wonderful experience and great place for...</td>\n",
              "      <td>Learning, connection, flexibility, personal gr...</td>\n",
              "      <td>contract work</td>\n",
              "    </tr>\n",
              "  </tbody>\n",
              "</table>\n",
              "<p>2940 rows × 5 columns</p>\n",
              "</div>"
            ],
            "text/plain": [
              "     rating  ...                                        rating_cons\n",
              "0       4.0  ...                                               None\n",
              "1       5.0  ...                                               None\n",
              "2       5.0  ...                                            No cons\n",
              "3       4.0  ...                  Work life balance, TVC inequality\n",
              "4       3.0  ...  Unprepared management, to many escalation leve...\n",
              "...     ...  ...                                                ...\n",
              "2935    5.0  ...                                               None\n",
              "2936    4.0  ...                                       Short Brakes\n",
              "2937    5.0  ...                             Benefits weren't great\n",
              "2938    5.0  ...                             Benefits weren't great\n",
              "2939    5.0  ...                                      contract work\n",
              "\n",
              "[2940 rows x 5 columns]"
            ]
          },
          "metadata": {
            "tags": []
          },
          "execution_count": 29
        }
      ]
    },
    {
      "cell_type": "code",
      "metadata": {
        "id": "qbSDetiBb7La"
      },
      "source": [
        "import numpy as np\n",
        "import seaborn as sns\n",
        "%matplotlib inline\n",
        "import matplotlib.pyplot as plt\n",
        "import random"
      ],
      "execution_count": null,
      "outputs": []
    },
    {
      "cell_type": "code",
      "metadata": {
        "id": "M1YwvXGScCSP",
        "outputId": "f1b679d7-55b2-442a-df9e-8fd5a2049087",
        "colab": {
          "base_uri": "https://localhost:8080/",
          "height": 173
        }
      },
      "source": [
        "df = all_reviews_df\n",
        "\n",
        "df.describe()"
      ],
      "execution_count": null,
      "outputs": [
        {
          "output_type": "execute_result",
          "data": {
            "text/html": [
              "<div>\n",
              "<style scoped>\n",
              "    .dataframe tbody tr th:only-of-type {\n",
              "        vertical-align: middle;\n",
              "    }\n",
              "\n",
              "    .dataframe tbody tr th {\n",
              "        vertical-align: top;\n",
              "    }\n",
              "\n",
              "    .dataframe thead th {\n",
              "        text-align: right;\n",
              "    }\n",
              "</style>\n",
              "<table border=\"1\" class=\"dataframe\">\n",
              "  <thead>\n",
              "    <tr style=\"text-align: right;\">\n",
              "      <th></th>\n",
              "      <th>rating</th>\n",
              "      <th>rating_title</th>\n",
              "      <th>rating_description</th>\n",
              "      <th>rating_pros</th>\n",
              "      <th>rating_cons</th>\n",
              "    </tr>\n",
              "  </thead>\n",
              "  <tbody>\n",
              "    <tr>\n",
              "      <th>count</th>\n",
              "      <td>2940</td>\n",
              "      <td>2940</td>\n",
              "      <td>2940</td>\n",
              "      <td>1110</td>\n",
              "      <td>997</td>\n",
              "    </tr>\n",
              "    <tr>\n",
              "      <th>unique</th>\n",
              "      <td>5</td>\n",
              "      <td>2329</td>\n",
              "      <td>2794</td>\n",
              "      <td>938</td>\n",
              "      <td>883</td>\n",
              "    </tr>\n",
              "    <tr>\n",
              "      <th>top</th>\n",
              "      <td>5.0</td>\n",
              "      <td>Great experience</td>\n",
              "      <td>-Worked as a contractor and was able to meet i...</td>\n",
              "      <td>Free lunches</td>\n",
              "      <td>none</td>\n",
              "    </tr>\n",
              "    <tr>\n",
              "      <th>freq</th>\n",
              "      <td>1563</td>\n",
              "      <td>148</td>\n",
              "      <td>140</td>\n",
              "      <td>29</td>\n",
              "      <td>18</td>\n",
              "    </tr>\n",
              "  </tbody>\n",
              "</table>\n",
              "</div>"
            ],
            "text/plain": [
              "       rating      rating_title  ...   rating_pros rating_cons\n",
              "count    2940              2940  ...          1110         997\n",
              "unique      5              2329  ...           938         883\n",
              "top       5.0  Great experience  ...  Free lunches        none\n",
              "freq     1563               148  ...            29          18\n",
              "\n",
              "[4 rows x 5 columns]"
            ]
          },
          "metadata": {
            "tags": []
          },
          "execution_count": 32
        }
      ]
    },
    {
      "cell_type": "code",
      "metadata": {
        "id": "Dtd47Fy6b9OX",
        "outputId": "b3fcbacc-38d1-4277-9e41-12e32ad7b7f7",
        "colab": {
          "base_uri": "https://localhost:8080/",
          "height": 295
        }
      },
      "source": [
        "groups = df.groupby('rating').count()\n",
        "Values = groups.rating_title\n",
        "colors = ['r', 'g', 'b', 'c', 'm']\n",
        "#making bar plot\n",
        "plt.bar(([1,2,3,4,5]), Values, color= colors)\n",
        "plt.title('Rating Distribution')\n",
        "plt.xlabel('Rating')\n",
        "plt.ylabel('Review Quantity')\n",
        "plt.show()"
      ],
      "execution_count": null,
      "outputs": [
        {
          "output_type": "display_data",
          "data": {
            "image/png": "[encoded data removed]",
            "text/plain": [
              "<Figure size 432x288 with 1 Axes>"
            ]
          },
          "metadata": {
            "tags": [],
            "needs_background": "light"
          }
        }
      ]
    },
    {
      "cell_type": "code",
      "metadata": {
        "id": "Fe9yS5mLcY9M",
        "outputId": "fc2d503e-1e6e-429a-8f52-fd8ffac7a18b",
        "colab": {
          "base_uri": "https://localhost:8080/",
          "height": 35
        }
      },
      "source": [
        "df['rating'][0]"
      ],
      "execution_count": null,
      "outputs": [
        {
          "output_type": "execute_result",
          "data": {
            "application/vnd.google.colaboratory.intrinsic+json": {
              "type": "string"
            },
            "text/plain": [
              "'4.0'"
            ]
          },
          "metadata": {
            "tags": []
          },
          "execution_count": 34
        }
      ]
    }
  ]
}