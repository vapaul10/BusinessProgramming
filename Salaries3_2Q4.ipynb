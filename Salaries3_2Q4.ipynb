{
  "nbformat": 4,
  "nbformat_minor": 0,
  "metadata": {
    "colab": {
      "name": "Salaries3.2Q4.ipynb",
      "provenance": [],
      "collapsed_sections": [],
      "authorship_tag": "ABX9TyNfPy5LfbaLG3HABsVat1Ft",
      "include_colab_link": true
    },
    "kernelspec": {
      "name": "python3",
      "display_name": "Python 3"
    }
  },
  "cells": [
    {
      "cell_type": "markdown",
      "metadata": {
        "id": "view-in-github",
        "colab_type": "text"
      },
      "source": [
        "<a href=\"https://colab.research.google.com/github/vapaul10/BusinessProgramming/blob/Week-2-Assignments/Salaries3_2Q4.ipynb\" target=\"_parent\"><img src=\"https://colab.research.google.com/assets/colab-badge.svg\" alt=\"Open In Colab\"/></a>"
      ]
    },
    {
      "cell_type": "code",
      "metadata": {
        "id": "FVDK4xBo-JrB",
        "colab_type": "code",
        "colab": {}
      },
      "source": [
        ">>> salary1 = float(input(\"Enter salary: \" ))\n",
        ">>> salary2 = float(input(\"Next salary: \" ))\n",
        ">>> salary3 = float(input(\"Next Salary: \" ))\n",
        ">>> salaries = (salary1, salary2, salary3)\n",
        ">>> for number in salaries:\n",
        "    print(\"%12.2f\" % number)\n",
        ">>> pause = str(input(\"Click enter to close\"))"
      ],
      "execution_count": null,
      "outputs": []
    }
  ]
}