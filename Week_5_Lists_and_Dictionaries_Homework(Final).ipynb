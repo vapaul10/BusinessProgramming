{
  "nbformat": 4,
  "nbformat_minor": 0,
  "metadata": {
    "colab": {
      "name": "Week 5 Lists and Dictionaries-Homework(Final).ipynb",
      "provenance": [],
      "collapsed_sections": [],
      "authorship_tag": "ABX9TyOJwYuqCLlmEffR+P8Xo0LS",
      "include_colab_link": true
    },
    "kernelspec": {
      "name": "python3",
      "display_name": "Python 3"
    }
  },
  "cells": [
    {
      "cell_type": "markdown",
      "metadata": {
        "id": "view-in-github",
        "colab_type": "text"
      },
      "source": [
        "<a href=\"https://colab.research.google.com/github/vapaul10/BusinessProgramming/blob/Week-5---Assignments/Week_5_Lists_and_Dictionaries_Homework(Final).ipynb\" target=\"_parent\"><img src=\"https://colab.research.google.com/assets/colab-badge.svg\" alt=\"Open In Colab\"/></a>"
      ]
    },
    {
      "cell_type": "markdown",
      "metadata": {
        "id": "G26gBIgQtPJm"
      },
      "source": [
        "#5.2 List Methods Exercise 1a\n",
        "Assume that the variable data refers to the list [5, 3, 7]. Write the values of the **following** expressions:\n",
        "\n",
        "a. **data[2]**\n",
        "\n",
        "b. data[-1]\n",
        "\n",
        "c. len(data)\n",
        "\n",
        "d. data[0:2]\n",
        "\n",
        "e. 0 in data\n",
        "\n",
        "f.  data + [2, 10, 5]\n"
      ]
    },
    {
      "cell_type": "code",
      "metadata": {
        "id": "SI1dGi7vtWKy",
        "outputId": "643fa8cd-e0cb-449e-925c-815ce6a3f788",
        "colab": {
          "base_uri": "https://localhost:8080/",
          "height": 34
        }
      },
      "source": [
        "data = [5,3,7]\n",
        "data\n",
        "data[2]"
      ],
      "execution_count": null,
      "outputs": [
        {
          "output_type": "execute_result",
          "data": {
            "text/plain": [
              "7"
            ]
          },
          "metadata": {
            "tags": []
          },
          "execution_count": 55
        }
      ]
    },
    {
      "cell_type": "markdown",
      "metadata": {
        "id": "_BoXyXiYuBlj"
      },
      "source": [
        "#5.2 List Methods Exercise 1b\n",
        "Assume that the variable data refers to the list [5, 3, 7]. Write the values of the following expressions:\n",
        "\n",
        "a. data[2]\n",
        "\n",
        "**b. data[-1]**\n",
        "\n",
        "c. len(data)\n",
        "\n",
        "d. data[0:2]\n",
        "\n",
        "e. 0 in data\n",
        "\n",
        "f. data + [2, 10, 5]"
      ]
    },
    {
      "cell_type": "code",
      "metadata": {
        "id": "gF4u3zZluBJy",
        "outputId": "5deb090b-6217-4e59-d7ef-975558ef2b5b",
        "colab": {
          "base_uri": "https://localhost:8080/",
          "height": 34
        }
      },
      "source": [
        "data = [5,3,7]\n",
        "data\n",
        "data[-1]"
      ],
      "execution_count": null,
      "outputs": [
        {
          "output_type": "execute_result",
          "data": {
            "text/plain": [
              "7"
            ]
          },
          "metadata": {
            "tags": []
          },
          "execution_count": 57
        }
      ]
    },
    {
      "cell_type": "markdown",
      "metadata": {
        "id": "L8xWA2GHul0z"
      },
      "source": [
        "#5.2 List Methods Exercise 1c\n",
        "\n",
        "Assume that the variable data refers to the list [5, 3, 7]. Write the values of the following expressions:\n",
        "\n",
        "a. data[2]\n",
        "\n",
        "b. data[-1]\n",
        "\n",
        "**c. len(data)**\n",
        "\n",
        "d. data[0:2]\n",
        "\n",
        "e. 0 in data\n",
        "\n",
        "f. data + [2, 10, 5]"
      ]
    },
    {
      "cell_type": "code",
      "metadata": {
        "id": "YaFVLs0Puulx",
        "outputId": "c23629b7-cf59-43a9-ec62-0237f6cfd9c0",
        "colab": {
          "base_uri": "https://localhost:8080/",
          "height": 34
        }
      },
      "source": [
        "data = [5, 3, 7]\n",
        "data\n",
        "len(data)"
      ],
      "execution_count": null,
      "outputs": [
        {
          "output_type": "execute_result",
          "data": {
            "text/plain": [
              "3"
            ]
          },
          "metadata": {
            "tags": []
          },
          "execution_count": 22
        }
      ]
    },
    {
      "cell_type": "markdown",
      "metadata": {
        "id": "BpxA0mUYvBEA"
      },
      "source": [
        "#5.2 List Methods Exercise 1d\n",
        "\n",
        "Assume that the variable data refers to the list [5, 3, 7]. Write the values of the following expressions:\n",
        "a. data[2]\n",
        "\n",
        "b. data[-1]\n",
        "\n",
        "c. len(data)\n",
        "\n",
        "d. **data[0:2]**\n",
        "\n",
        "e. 0 in data\n",
        "\n",
        "f. data + [2, 10, 5]"
      ]
    },
    {
      "cell_type": "code",
      "metadata": {
        "id": "S5OiO-c3vThD",
        "outputId": "10582abd-dfe7-4037-9e96-e60307af904b",
        "colab": {
          "base_uri": "https://localhost:8080/",
          "height": 34
        }
      },
      "source": [
        "data = [5, 3, 7]\n",
        "data\n",
        "data[0:2]"
      ],
      "execution_count": null,
      "outputs": [
        {
          "output_type": "execute_result",
          "data": {
            "text/plain": [
              "[5, 3]"
            ]
          },
          "metadata": {
            "tags": []
          },
          "execution_count": 32
        }
      ]
    },
    {
      "cell_type": "markdown",
      "metadata": {
        "id": "gQ6DGBOswG--"
      },
      "source": [
        "#5.2 List Methods Exercise 1e\n",
        "\n",
        "Assume that the variable data refers to the list [5, 3, 7]. Write the values of the following expressions: a. data[2]\n",
        "\n",
        "b. data[-1]\n",
        "\n",
        "c. len(data)\n",
        "\n",
        "d. data[0:2]\n",
        "\n",
        "e. **0 in data**\n",
        "\n",
        "f. data + [2, 10, 5]"
      ]
    },
    {
      "cell_type": "code",
      "metadata": {
        "id": "EM-mWX4gwP3F",
        "outputId": "44cc46b0-9552-4c61-aeba-2caf7f26c40b",
        "colab": {
          "base_uri": "https://localhost:8080/",
          "height": 34
        }
      },
      "source": [
        "data = [5, 3, 7]\n",
        "data\n",
        "data == '0'"
      ],
      "execution_count": null,
      "outputs": [
        {
          "output_type": "execute_result",
          "data": {
            "text/plain": [
              "False"
            ]
          },
          "metadata": {
            "tags": []
          },
          "execution_count": 50
        }
      ]
    },
    {
      "cell_type": "markdown",
      "metadata": {
        "id": "WyOu58vS0bD2"
      },
      "source": [
        "#5.2  Exercise 1f\n",
        "Assume that the variable data refers to the list [5, 3, 7]. Write the values of the following expressions:\n",
        "\n",
        "a. data[2]\n",
        "\n",
        "b. data[-1]\n",
        "\n",
        "c. len(data)\n",
        "\n",
        "d. data[0:2]\n",
        "\n",
        "e. 0 in data\n",
        "\n",
        "f. **data + [2, 10, 5]**"
      ]
    },
    {
      "cell_type": "code",
      "metadata": {
        "id": "L2OskO-f0mjL",
        "outputId": "5c66543b-b8eb-40ca-ae48-07cfbffd9d99",
        "colab": {
          "base_uri": "https://localhost:8080/",
          "height": 34
        }
      },
      "source": [
        "data = [5, 3, 7]\n",
        "data\n",
        "data + [2, 10, 5]"
      ],
      "execution_count": null,
      "outputs": [
        {
          "output_type": "execute_result",
          "data": {
            "text/plain": [
              "[5, 3, 7, 2, 10, 5]"
            ]
          },
          "metadata": {
            "tags": []
          },
          "execution_count": 52
        }
      ]
    },
    {
      "cell_type": "markdown",
      "metadata": {
        "id": "E2kessFaCqk8"
      },
      "source": [
        "#5.2 Exercise 1c\n",
        "\n",
        "5.2 List Methods Exercise\n",
        "Assume that the variable data refers to the list [5, 3, 7]. Write the values of the following expressions:\n",
        "\n",
        "a. data[2]\n",
        "\n",
        "b. data[-1]\n",
        "\n",
        "**c. len(data)**\n",
        "\n",
        "d. data[0:2]\n",
        "\n",
        "e. 0 in data\n",
        "\n",
        "f. data + [2, 10, 5]"
      ]
    },
    {
      "cell_type": "code",
      "metadata": {
        "id": "Yb9TnxulC0DP",
        "outputId": "f4c09906-75b4-488c-c132-b2f6d900de2e",
        "colab": {
          "base_uri": "https://localhost:8080/",
          "height": 34
        }
      },
      "source": [
        "data = [5, 3, 7]\n",
        "data\n",
        "len(data)"
      ],
      "execution_count": null,
      "outputs": [
        {
          "output_type": "execute_result",
          "data": {
            "text/plain": [
              "3"
            ]
          },
          "metadata": {
            "tags": []
          },
          "execution_count": 3
        }
      ]
    },
    {
      "cell_type": "markdown",
      "metadata": {
        "id": "sC0gIodze4Tg"
      },
      "source": [
        "#5.2 Exercise 1d\n",
        "5.2 List Methods Exercise Assume that the variable data refers to the list [5, 3, 7]. Write the values of the following expressions:\n",
        "\n",
        "a. data[2]\n",
        "\n",
        "b. data[-1]\n",
        "\n",
        "c. len(data)\n",
        "\n",
        "**d. data[0:2]**\n",
        "\n",
        "e. 0 in data\n",
        "\n",
        "f. data + [2, 10, 5]"
      ]
    },
    {
      "cell_type": "code",
      "metadata": {
        "id": "h6Fs4xSye34A"
      },
      "source": [
        "data = [5, 3, 7]\n",
        "data\n",
        "data[0:2]"
      ],
      "execution_count": null,
      "outputs": []
    },
    {
      "cell_type": "markdown",
      "metadata": {
        "id": "onZYk8J-fElC"
      },
      "source": [
        "#5.2 List Methods Exercise 1e\n",
        "Assume that the variable data refers to the list [5, 3, 7]. Write the values of the following expressions: a. data[2]\n",
        "\n",
        "b. data[-1]\n",
        "\n",
        "c. len(data)\n",
        "\n",
        "d. data[0:2]\n",
        "\n",
        "**e. 0 in data**\n",
        "\n",
        "f. data + [2, 10, 5]"
      ]
    },
    {
      "cell_type": "code",
      "metadata": {
        "id": "q1BcWonpfJcB"
      },
      "source": [
        "data = [5, 3, 7]\n",
        "data\n",
        "data == '0'"
      ],
      "execution_count": null,
      "outputs": []
    },
    {
      "cell_type": "markdown",
      "metadata": {
        "id": "U9BPBBsQfNVG"
      },
      "source": [
        "#5.1 Exercise 1f\n",
        "\n",
        "Assume that the variable data refers to the list [5, 3, 7]. Write the values of the following expressions:\n",
        "\n",
        "a. data[2]\n",
        "\n",
        "b. data[-1]\n",
        "\n",
        "c. len(data)\n",
        "\n",
        "d. data[0:2]\n",
        "\n",
        "e. 0 in data\n",
        "\n",
        "**f. data + [2, 10, 5]**\n",
        "\n",
        "g. tuple(data)"
      ]
    },
    {
      "cell_type": "code",
      "metadata": {
        "id": "0-j-ourGfU64"
      },
      "source": [
        "data = [5, 3, 7]\n",
        "data\n",
        "data + [2, 10, 5]"
      ],
      "execution_count": null,
      "outputs": []
    },
    {
      "cell_type": "markdown",
      "metadata": {
        "id": "PD27wbyTfY-X"
      },
      "source": [
        "#5.2 Exercise 1g\n",
        "Assume that the variable data refers to the list [5, 3, 7]. Write the values of the following expressions:\n",
        "\n",
        "a. data[2]\n",
        "\n",
        "b. data[-1]\n",
        "\n",
        "c. len(data)\n",
        "\n",
        "d. data[0:2]\n",
        "\n",
        "e. 0 in data\n",
        "\n",
        "f. data + [2, 10, 5]\n",
        "\n",
        "**g. tuple(data)**\n"
      ]
    },
    {
      "cell_type": "code",
      "metadata": {
        "id": "fOUH9Q4XfevF"
      },
      "source": [
        "data =('5,' '3,' '7')   #tuple because of the parentheses\n",
        "data"
      ],
      "execution_count": null,
      "outputs": []
    },
    {
      "cell_type": "markdown",
      "metadata": {
        "id": "hH-n2A8uVpmB"
      },
      "source": [
        "#5.2 Exercise 2a\n",
        "Assume that the variable data refers to the list [5, 3, 7]. Write the expressions that perform the following tasks:\n",
        "\n",
        "a. ** Replace the value at position 0 in data with that value’s negation.**\n",
        "\n",
        "b. Add the value 10 to the end of data.\n",
        "\n",
        "c. Insert the value 22 at position 2 in data.\n",
        "\n",
        "d. Remove the value at position 1 in data"
      ]
    },
    {
      "cell_type": "code",
      "metadata": {
        "id": "UhP4Gu9GVudX"
      },
      "source": [
        "data = [5, 3, 7]\n",
        "data\n",
        "data[0] = -data[0]\n",
        "data"
      ],
      "execution_count": null,
      "outputs": []
    },
    {
      "cell_type": "markdown",
      "metadata": {
        "id": "7m2y08fuVyO1"
      },
      "source": [
        "# 5.2 Exercise 2b\n",
        "Assume that the variable data refers to the list [5, 3, 7]. Write the expressions that perform the following tasks:\n",
        "\n",
        "a. Replace the value at position 0 in data with that value’s negation.\n",
        "\n",
        "b. *Add the value 10 to the end of data. *\n",
        "\n",
        "c. Insert the value 22 at position 2 in data.\n",
        "\n",
        "d. Remove the value at position 1 in data"
      ]
    },
    {
      "cell_type": "code",
      "metadata": {
        "id": "ED1XmXJUV0lM"
      },
      "source": [
        "data = [5, 3, 7]\n",
        "data\n",
        "data.append(10)\n",
        "data"
      ],
      "execution_count": null,
      "outputs": []
    },
    {
      "cell_type": "markdown",
      "metadata": {
        "id": "RMPSNKlbV71O"
      },
      "source": [
        "#5.2 Exercise 2c\n",
        "Assume that the variable data refers to the list [5, 3, 7]. Write the expressions that perform the following tasks:\n",
        "\n",
        "a. Replace the value at position 0 in data with that value’s negation.\n",
        "\n",
        "b. Add the value 10 to the end of data.\n",
        "\n",
        "c. Insert the value 22 at position 2 in data.\n",
        "\n",
        "d. Remove the value at position 1 in data"
      ]
    },
    {
      "cell_type": "code",
      "metadata": {
        "id": "6syDxQqsV_cH"
      },
      "source": [
        "data = [5, 3, 7]\n",
        "data\n",
        "data.insert(2, 22)\n",
        "data"
      ],
      "execution_count": null,
      "outputs": []
    },
    {
      "cell_type": "markdown",
      "metadata": {
        "id": "-RacbszNWBcF"
      },
      "source": [
        "# 5.2 Exercise 2d\n",
        "Assume that the variable data refers to the list [5, 3, 7]. Write the expressions that perform the following tasks:\n",
        "\n",
        "a. Replace the value at position 0 in data with that value’s negation.\n",
        "\n",
        "b. Add the value 10 to the end of data.\n",
        "\n",
        "c. Insert the value 22 at position 2 in data.\n",
        "\n",
        "d. Remove the value at position 1 in data"
      ]
    },
    {
      "cell_type": "code",
      "metadata": {
        "id": "9cEfN_GsWDs6"
      },
      "source": [
        "data = [5, 3, 7]\n",
        "data\n",
        "data.pop(1)\n",
        "data"
      ],
      "execution_count": null,
      "outputs": []
    },
    {
      "cell_type": "markdown",
      "metadata": {
        "id": "B6biizXiWJmJ"
      },
      "source": [
        "#5.2 Exercise 3\n",
        "What is a mutator method? Explain why mutator methods usually return the value None. \"\"\" Mutator methods, like insert, append, extend, pop and sort are usually not valuable to the caller. Python automatically returns call with none. \"\"\"\n"
      ]
    },
    {
      "cell_type": "code",
      "metadata": {
        "id": "_RfueF54WM80"
      },
      "source": [
        "data = ['date', 'banana', 'orange', 'chocolate strawberries']\n",
        "data.sort()\n",
        "data"
      ],
      "execution_count": null,
      "outputs": []
    },
    {
      "cell_type": "markdown",
      "metadata": {
        "id": "0jDRg0CnWP7i"
      },
      "source": [
        "#5.2 Exercise 4\n",
        "Describe the costs and benefits of aliasing and explain how it can be avoided."
      ]
    },
    {
      "cell_type": "code",
      "metadata": {
        "id": "rfp5SBXIWTFk"
      },
      "source": [
        "# \"\"\"\"\"\"In the case of large numbers or different type of values you might use aliasing. \n",
        "# Also, when using immutable strings, aliasing saves the memory. \n",
        "# To avoid aliasing, it is recommended to mutate the list or create a new object and copy it \"\"\" \"\"\""
      ],
      "execution_count": null,
      "outputs": []
    },
    {
      "cell_type": "code",
      "metadata": {
        "id": "wIo9tMJCWU0Z"
      },
      "source": [
        ""
      ],
      "execution_count": null,
      "outputs": []
    },
    {
      "cell_type": "markdown",
      "metadata": {
        "id": "xN6PtUjNWgAy"
      },
      "source": [
        "#5.2 Exercise 5\n",
        " Write a loop that accumulates the sum of the numbers in a list named \"data.\""
      ]
    },
    {
      "cell_type": "code",
      "metadata": {
        "id": "v0_YrazJWkkq"
      },
      "source": [
        "data = [112 + 42]\n",
        "sum = 0\n",
        "for item in data:\n",
        "  sum = data\n",
        "data"
      ],
      "execution_count": null,
      "outputs": []
    },
    {
      "cell_type": "markdown",
      "metadata": {
        "id": "hC2UfoW2Wm1_"
      },
      "source": [
        "# 5.3 Exercise 1\n",
        "What roles do the parameters and the return statement play in a function definition?bold text"
      ]
    },
    {
      "cell_type": "code",
      "metadata": {
        "id": "X-217TxIWlql"
      },
      "source": [
        "# Answer to 5.3 Exercise 1#\n",
        "# A parameter is the name used in the function definition for an argument that is passed to the function when it is called. \n",
        "# A return is placed at an exit point of a function and should return a value. \n",
        "# When there is no function in the return statement, Python returns, None, automatically.\""
      ],
      "execution_count": null,
      "outputs": []
    },
    {
      "cell_type": "markdown",
      "metadata": {
        "id": "Wdzi2O7HWzeu"
      },
      "source": [
        "# 5.3 Exercise 2.\n",
        "Define a function named \"even.\" This function expects a number as an argument and returns True if the number is divisible by 2, or it returns False otherwise. (Hint: A number is evenly divisible by 2 if the remainder is 0.)"
      ]
    },
    {
      "cell_type": "code",
      "metadata": {
        "id": "gQetVlv4W2uD"
      },
      "source": [
        "\"\"\"\n",
        "File:  make even\n",
        "\"\"\"\n",
        "\n",
        "def main():\n",
        "    \"\"\" the main function\"\"\"\n",
        "    number = float(input(\"Enter a number:  \"))\n",
        "    result = even(number)\n",
        "    print(\"The even number of:  \", number,  \"is\", result)\n",
        "    \n",
        "def even(x):\n",
        "    \"\"\"Returns the even of x. \"\"\"\n",
        "    return x % 2 == 0\n",
        "\n",
        "# The entry point for program execution\n",
        "if __name__ == \"__main__\":\n",
        "    main()\"\"\"\n",
        "File:  make even\n",
        "\"\"\"\n",
        "\n",
        "def main():\n",
        "    \"\"\" the main function\"\"\"\n",
        "    number = float(input(\"Enter a number:  \"))\n",
        "    result = even(number)\n",
        "    print(\"The even number of:  \", number,  \"is\", result)\n",
        "    \n",
        "def even(x):\n",
        "    \"\"\"Returns the even of x. \"\"\"\n",
        "    return x % 2 == 0\n",
        "\n",
        "# The entry point for program execution\n",
        "if __name__ == \"__main__\":\n",
        "    main()"
      ],
      "execution_count": null,
      "outputs": []
    }
  ]
}