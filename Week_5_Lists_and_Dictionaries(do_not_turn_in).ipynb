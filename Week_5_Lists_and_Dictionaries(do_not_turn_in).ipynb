{
  "nbformat": 4,
  "nbformat_minor": 0,
  "metadata": {
    "colab": {
      "name": "Week 5 Lists and Dictionaries(do not turn in).ipynb",
      "provenance": [],
      "collapsed_sections": [],
      "authorship_tag": "ABX9TyPbMaCZ8pc1nf3edflaPSPT",
      "include_colab_link": true
    },
    "kernelspec": {
      "name": "python3",
      "display_name": "Python 3"
    }
  },
  "cells": [
    {
      "cell_type": "markdown",
      "metadata": {
        "id": "view-in-github",
        "colab_type": "text"
      },
      "source": [
        "<a href=\"https://colab.research.google.com/github/vapaul10/BusinessProgramming/blob/Week-5---Assignments/Week_5_Lists_and_Dictionaries(do_not_turn_in).ipynb\" target=\"_parent\"><img src=\"https://colab.research.google.com/assets/colab-badge.svg\" alt=\"Open In Colab\"/></a>"
      ]
    },
    {
      "cell_type": "markdown",
      "metadata": {
        "id": "JjV2WLh7AXOB"
      },
      "source": [
        "#Trial Attempt at Lists, Tuples\n",
        "(from Week 5)"
      ]
    },
    {
      "cell_type": "code",
      "metadata": {
        "id": "4rtn2FdDBvoO"
      },
      "source": [
        "\n",
        "\n",
        "mylist = [1,2, \"horse\"]\n",
        "print(mylist)\n",
        "print(mylist[0])      # print 1\n",
        "mylist.append(\"cat\")\n",
        "mylist.append(\"dog\")\n",
        "mylist[1]=3       #list can change data type and value, like int to string\n",
        "print(mylist)\n",
        "mylist[1]=\"pig\"\n",
        "print(mylist)\n",
        "\n",
        "print(\"Now let's look at the tuples\")\n",
        "mytuple = (1,2, \"horse\")\n",
        "print(mytuple)\n",
        "print(mytuple[0])\n",
        "#  mytuple[1]=8   #Tuple CANNOT Change value even if it is the same data type     \n",
        "print(mytuple)\n",
        "#  mytuple[1]=\"tuplepig\"\n",
        "print(mytuple)\n"
      ],
      "execution_count": null,
      "outputs": []
    },
    {
      "cell_type": "markdown",
      "metadata": {
        "id": "LAjgUGqGfTVL"
      },
      "source": [
        "#Notes Inserting Row"
      ]
    },
    {
      "cell_type": "code",
      "metadata": {
        "id": "woV8uU_0fsRg",
        "outputId": "ea7a71e8-7cf4-47aa-de5b-791eb2031d95",
        "colab": {
          "base_uri": "https://localhost:8080/",
          "height": 34
        }
      },
      "source": [
        "example = [1,2,3,4]\n",
        "example"
      ],
      "execution_count": null,
      "outputs": [
        {
          "output_type": "execute_result",
          "data": {
            "text/plain": [
              "[1, 2, 3, 4]"
            ]
          },
          "metadata": {
            "tags": []
          },
          "execution_count": 18
        }
      ]
    },
    {
      "cell_type": "markdown",
      "metadata": {
        "id": "G26gBIgQtPJm"
      },
      "source": [
        "#5.2 List Methods Exercise 1a\n",
        "Assume that the variable data refers to the list [5, 3, 7]. Write the values of the **following** expressions:\n",
        "\n",
        "a. **data[2]**\n",
        "\n",
        "b. data[-1]\n",
        "\n",
        "c. len(data)\n",
        "\n",
        "d. data[0:2]\n",
        "\n",
        "e. 0 in data\n",
        "\n",
        "f.  data + [2, 10, 5]\n"
      ]
    },
    {
      "cell_type": "code",
      "metadata": {
        "id": "SI1dGi7vtWKy",
        "outputId": "643fa8cd-e0cb-449e-925c-815ce6a3f788",
        "colab": {
          "base_uri": "https://localhost:8080/",
          "height": 34
        }
      },
      "source": [
        "data = [5,3,7]\n",
        "data\n",
        "data[2]"
      ],
      "execution_count": null,
      "outputs": [
        {
          "output_type": "execute_result",
          "data": {
            "text/plain": [
              "7"
            ]
          },
          "metadata": {
            "tags": []
          },
          "execution_count": 55
        }
      ]
    },
    {
      "cell_type": "markdown",
      "metadata": {
        "id": "_BoXyXiYuBlj"
      },
      "source": [
        "#5.2 List Methods Exercise 1b\n",
        "Assume that the variable data refers to the list [5, 3, 7]. Write the values of the following expressions:\n",
        "\n",
        "a. data[2]\n",
        "\n",
        "**b. data[-1]**\n",
        "\n",
        "c. len(data)\n",
        "\n",
        "d. data[0:2]\n",
        "\n",
        "e. 0 in data\n",
        "\n",
        "f. data + [2, 10, 5]"
      ]
    },
    {
      "cell_type": "code",
      "metadata": {
        "id": "gF4u3zZluBJy",
        "outputId": "5deb090b-6217-4e59-d7ef-975558ef2b5b",
        "colab": {
          "base_uri": "https://localhost:8080/",
          "height": 34
        }
      },
      "source": [
        "data = [5,3,7]\n",
        "data\n",
        "data[-1]"
      ],
      "execution_count": null,
      "outputs": [
        {
          "output_type": "execute_result",
          "data": {
            "text/plain": [
              "7"
            ]
          },
          "metadata": {
            "tags": []
          },
          "execution_count": 57
        }
      ]
    },
    {
      "cell_type": "markdown",
      "metadata": {
        "id": "L8xWA2GHul0z"
      },
      "source": [
        "#5.2 List Methods Exercise 1c\n",
        "\n",
        "Assume that the variable data refers to the list [5, 3, 7]. Write the values of the following expressions:\n",
        "\n",
        "a. data[2]\n",
        "\n",
        "b. data[-1]\n",
        "\n",
        "**c. len(data)**\n",
        "\n",
        "d. data[0:2]\n",
        "\n",
        "e. 0 in data\n",
        "\n",
        "f. data + [2, 10, 5]"
      ]
    },
    {
      "cell_type": "code",
      "metadata": {
        "id": "YaFVLs0Puulx",
        "outputId": "c23629b7-cf59-43a9-ec62-0237f6cfd9c0",
        "colab": {
          "base_uri": "https://localhost:8080/",
          "height": 34
        }
      },
      "source": [
        "data = [5, 3, 7]\n",
        "data\n",
        "len(data)"
      ],
      "execution_count": null,
      "outputs": [
        {
          "output_type": "execute_result",
          "data": {
            "text/plain": [
              "3"
            ]
          },
          "metadata": {
            "tags": []
          },
          "execution_count": 22
        }
      ]
    },
    {
      "cell_type": "markdown",
      "metadata": {
        "id": "BpxA0mUYvBEA"
      },
      "source": [
        "#5.2 List Methods Exercise 1d\n",
        "\n",
        "Assume that the variable data refers to the list [5, 3, 7]. Write the values of the following expressions:\n",
        "a. data[2]\n",
        "\n",
        "b. data[-1]\n",
        "\n",
        "c. len(data)\n",
        "\n",
        "d. **data[0:2]**\n",
        "\n",
        "e. 0 in data\n",
        "\n",
        "f. data + [2, 10, 5]"
      ]
    },
    {
      "cell_type": "code",
      "metadata": {
        "id": "S5OiO-c3vThD",
        "outputId": "10582abd-dfe7-4037-9e96-e60307af904b",
        "colab": {
          "base_uri": "https://localhost:8080/",
          "height": 34
        }
      },
      "source": [
        "data = [5, 3, 7]\n",
        "data\n",
        "data[0:2]"
      ],
      "execution_count": null,
      "outputs": [
        {
          "output_type": "execute_result",
          "data": {
            "text/plain": [
              "[5, 3]"
            ]
          },
          "metadata": {
            "tags": []
          },
          "execution_count": 32
        }
      ]
    },
    {
      "cell_type": "markdown",
      "metadata": {
        "id": "gQ6DGBOswG--"
      },
      "source": [
        "#5.2 List Methods Exercise 1e\n",
        "\n",
        "Assume that the variable data refers to the list [5, 3, 7]. Write the values of the following expressions: a. data[2]\n",
        "\n",
        "b. data[-1]\n",
        "\n",
        "c. len(data)\n",
        "\n",
        "d. data[0:2]\n",
        "\n",
        "e. **0 in data**\n",
        "\n",
        "f. data + [2, 10, 5]"
      ]
    },
    {
      "cell_type": "code",
      "metadata": {
        "id": "EM-mWX4gwP3F",
        "outputId": "44cc46b0-9552-4c61-aeba-2caf7f26c40b",
        "colab": {
          "base_uri": "https://localhost:8080/",
          "height": 34
        }
      },
      "source": [
        "data = [5, 3, 7]\n",
        "data\n",
        "data == '0'"
      ],
      "execution_count": null,
      "outputs": [
        {
          "output_type": "execute_result",
          "data": {
            "text/plain": [
              "False"
            ]
          },
          "metadata": {
            "tags": []
          },
          "execution_count": 50
        }
      ]
    },
    {
      "cell_type": "markdown",
      "metadata": {
        "id": "WyOu58vS0bD2"
      },
      "source": [
        "# 5.1  Exercise 1f\n",
        "Assume that the variable data refers to the list [5, 3, 7]. Write the values of the following expressions:\n",
        "\n",
        "a. data[2]\n",
        "\n",
        "b. data[-1]\n",
        "\n",
        "c. len(data)\n",
        "\n",
        "d. data[0:2]\n",
        "\n",
        "e. 0 in data\n",
        "\n",
        "f. **data + [2, 10, 5]**\n",
        "\n",
        "g. tuple(data)"
      ]
    },
    {
      "cell_type": "code",
      "metadata": {
        "id": "L2OskO-f0mjL",
        "outputId": "5c66543b-b8eb-40ca-ae48-07cfbffd9d99",
        "colab": {
          "base_uri": "https://localhost:8080/",
          "height": 34
        }
      },
      "source": [
        "data = [5, 3, 7]\n",
        "data\n",
        "data + [2, 10, 5]"
      ],
      "execution_count": null,
      "outputs": [
        {
          "output_type": "execute_result",
          "data": {
            "text/plain": [
              "[5, 3, 7, 2, 10, 5]"
            ]
          },
          "metadata": {
            "tags": []
          },
          "execution_count": 52
        }
      ]
    },
    {
      "cell_type": "markdown",
      "metadata": {
        "id": "yUA22CVHD-R6"
      },
      "source": [
        "#5.2 Exercise 1g\n",
        "Assume that the variable data refers to the list [5, 3, 7]. Write the values of the following expressions:\n",
        "\n",
        "a. data[2]\n",
        "\n",
        "b. data[-1]\n",
        "\n",
        "c. len(data)\n",
        "\n",
        "d. data[0:2]\n",
        "\n",
        "e. 0 in data\n",
        "\n",
        "f. data + [2, 10, 5]\n",
        "\n",
        "g. **tuple(data)**"
      ]
    },
    {
      "cell_type": "code",
      "metadata": {
        "id": "0GubVZ24EQXd",
        "outputId": "5b283b20-2286-4cfe-8d1a-3b661aa0f484",
        "colab": {
          "base_uri": "https://localhost:8080/",
          "height": 35
        }
      },
      "source": [
        "data =('5,' '3,' '7')   #tuple because of the parentheses\n",
        "data"
      ],
      "execution_count": null,
      "outputs": [
        {
          "output_type": "execute_result",
          "data": {
            "application/vnd.google.colaboratory.intrinsic+json": {
              "type": "string"
            },
            "text/plain": [
              "'5,3,7'"
            ]
          },
          "metadata": {
            "tags": []
          },
          "execution_count": 59
        }
      ]
    },
    {
      "cell_type": "markdown",
      "metadata": {
        "id": "L3bp1P2zC-4r"
      },
      "source": [
        "#5.2 Exercise 2a\n",
        "\n",
        "Assume that the variable data refers to the list [5, 3, 7]. Write the expressions that perform the following tasks:\n",
        "\n",
        "a.   ** Replace the value at position 0 in data with that value’s negation.** \n",
        "\n",
        "b.    Add the value 10 to the end of data. \n",
        "\n",
        "c.    Insert the value 22 at position 2 in data. \n",
        "\n",
        "d.    Remove the value at position 1 in data  "
      ]
    },
    {
      "cell_type": "code",
      "metadata": {
        "id": "t-BLfsdXETl2",
        "outputId": "8ac235f7-4cae-4bb2-ce8f-50b31b46ef50",
        "colab": {
          "base_uri": "https://localhost:8080/",
          "height": 34
        }
      },
      "source": [
        "data = [5, 3, 7]\n",
        "data\n",
        "data[0] = -data[0]\n",
        "data\n",
        "\n"
      ],
      "execution_count": null,
      "outputs": [
        {
          "output_type": "execute_result",
          "data": {
            "text/plain": [
              "[-5, 3, 7]"
            ]
          },
          "metadata": {
            "tags": []
          },
          "execution_count": 78
        }
      ]
    },
    {
      "cell_type": "markdown",
      "metadata": {
        "id": "-dMW6kOTI4wO"
      },
      "source": [
        "#5.2 Exercise 2b\n",
        "\n",
        "Assume that the variable data refers to the list [5, 3, 7]. Write the expressions that perform the following tasks:\n",
        "\n",
        "a.   Replace the value at position 0 in data with that value’s negation.\n",
        "\n",
        "b.    **Add the value 10 to the end of data. **\n",
        "\n",
        "c.    Insert the value 22 at position 2 in data. \n",
        "\n",
        "d.    Remove the value at position 1 in data  "
      ]
    },
    {
      "cell_type": "code",
      "metadata": {
        "id": "E7sfz24NJAUW",
        "outputId": "e280e022-6c60-456f-ff7b-1af25b517b0d",
        "colab": {
          "base_uri": "https://localhost:8080/",
          "height": 34
        }
      },
      "source": [
        "data = [5, 3, 7]\n",
        "data\n",
        "data.append(10)\n",
        "data"
      ],
      "execution_count": null,
      "outputs": [
        {
          "output_type": "execute_result",
          "data": {
            "text/plain": [
              "[5, 3, 7, 10]"
            ]
          },
          "metadata": {
            "tags": []
          },
          "execution_count": 79
        }
      ]
    },
    {
      "cell_type": "markdown",
      "metadata": {
        "id": "KSU_EuHIJLTS"
      },
      "source": [
        "#5.2 Exercise 2c\n",
        "\n",
        "Assume that the variable data refers to the list [5, 3, 7]. Write the expressions that perform the following tasks:\n",
        "\n",
        "a. Replace the value at position 0 in data with that value’s negation.\n",
        "\n",
        "b. Add the value 10 to the end of data.\n",
        "\n",
        "c. **Insert the value 22 at position 2 in data.**\n",
        "\n",
        "d. Remove the value at position 1 in data"
      ]
    },
    {
      "cell_type": "code",
      "metadata": {
        "id": "katPJseYJ6cl",
        "outputId": "09185ed3-2c63-46e6-ad13-a2e4590424a7",
        "colab": {
          "base_uri": "https://localhost:8080/",
          "height": 34
        }
      },
      "source": [
        "data = [5, 3, 7]\n",
        "data\n",
        "data.insert(2, 22)\n",
        "data"
      ],
      "execution_count": null,
      "outputs": [
        {
          "output_type": "execute_result",
          "data": {
            "text/plain": [
              "[5, 3, 22, 7]"
            ]
          },
          "metadata": {
            "tags": []
          },
          "execution_count": 82
        }
      ]
    },
    {
      "cell_type": "markdown",
      "metadata": {
        "id": "qcZ6yOb_KgBF"
      },
      "source": [
        "#5.2 Exercise 2d\n",
        "\n",
        "Assume that the variable data refers to the list [5, 3, 7]. Write the expressions that perform the following tasks:\n",
        "\n",
        "a. Replace the value at position 0 in data with that value’s negation.\n",
        "\n",
        "b. Add the value 10 to the end of data.\n",
        "\n",
        "c. Insert the value 22 at position 2 in data.\n",
        "\n",
        "**d. Remove the value at position 1 in data**"
      ]
    },
    {
      "cell_type": "code",
      "metadata": {
        "id": "tnmiV7PeKyxP",
        "outputId": "e8ce9f82-d520-40ab-a5f5-aadb16370482",
        "colab": {
          "base_uri": "https://localhost:8080/",
          "height": 34
        }
      },
      "source": [
        "data = [5, 3, 7]\n",
        "data\n",
        "data.pop(1)\n",
        "data"
      ],
      "execution_count": 30,
      "outputs": [
        {
          "output_type": "execute_result",
          "data": {
            "text/plain": [
              "[5, 7]"
            ]
          },
          "metadata": {
            "tags": []
          },
          "execution_count": 30
        }
      ]
    },
    {
      "cell_type": "markdown",
      "metadata": {
        "id": "VO96wIjmLLDg"
      },
      "source": [
        "#5.2 Exercise 3\n",
        "\n",
        "What is a mutator method? Explain why mutator methods usually return the value None.\n",
        "\"\"\" Mutator methods, like insert, append, extend, pop and sort are usually not valuable to the caller.\n",
        "  Python automatically returns call with none.\n",
        "\"\"\""
      ]
    },
    {
      "cell_type": "code",
      "metadata": {
        "id": "cbi3aIruLgeW",
        "outputId": "f22672ab-3289-4a8b-9f94-29079f78e9bf",
        "colab": {
          "base_uri": "https://localhost:8080/",
          "height": 34
        }
      },
      "source": [
        "\n",
        "data = ['date', 'banana', 'orange', 'chocolate strawberries']\n",
        "data.sort()\n",
        "data"
      ],
      "execution_count": null,
      "outputs": [
        {
          "output_type": "execute_result",
          "data": {
            "text/plain": [
              "['banana', 'chocolate strawberries', 'date', 'orange']"
            ]
          },
          "metadata": {
            "tags": []
          },
          "execution_count": 107
        }
      ]
    },
    {
      "cell_type": "markdown",
      "metadata": {
        "id": "xc1wLHV-Owx0"
      },
      "source": [
        "#5.2 Exercise 4\n",
        "\n",
        "Describe the costs and benefits of aliasing and explain how it can be avoided."
      ]
    },
    {
      "cell_type": "code",
      "metadata": {
        "id": "KCcrHAe0PDE8"
      },
      "source": [
        "\"\"\"\"\"\"In the case of large numbers or different type of values you might use aliasing. Also, when using immutable strings, aliasing saves the memory. To avoid aliasing, it is recommended to mutate the list or create a new object and copy it \"\"\" \"\"\""
      ],
      "execution_count": null,
      "outputs": []
    },
    {
      "cell_type": "markdown",
      "metadata": {
        "id": "qFjhhKGhQ0vc"
      },
      "source": [
        "#5.2 Exercise 5\n",
        "Write a loop that accumulates the sum of the numbers in a list named \"data.\""
      ]
    },
    {
      "cell_type": "code",
      "metadata": {
        "id": "GO_I-NI1PXRm",
        "outputId": "42d87f93-4293-4a41-de42-a2bf55e6bd30",
        "colab": {
          "base_uri": "https://localhost:8080/",
          "height": 34
        }
      },
      "source": [
        "data = [112 + 42]\n",
        "sum = 0\n",
        "for item in data:\n",
        "  sum = data\n",
        "data\n"
      ],
      "execution_count": null,
      "outputs": [
        {
          "output_type": "execute_result",
          "data": {
            "text/plain": [
              "[154]"
            ]
          },
          "metadata": {
            "tags": []
          },
          "execution_count": 143
        }
      ]
    },
    {
      "cell_type": "markdown",
      "metadata": {
        "id": "nBaMuBoMTTM0"
      },
      "source": [
        "# 5.3 Exercise 1\n",
        "\n",
        "What roles do the parameters and the return statement play in a function definition?**bold text**"
      ]
    },
    {
      "cell_type": "code",
      "metadata": {
        "id": "vJCWCsPiTdu5"
      },
      "source": [
        "\"Answer to 5.3 Exercise 1 \"\n",
        "# A parameter is the name used in the function definition for an argument that is passed to the function when it is called. \n",
        "# A return is placed at an exit point of a function and should return a value. \n",
        "# When there is no function in the return statement, Python returns, None, automatically.\""
      ],
      "execution_count": null,
      "outputs": []
    },
    {
      "cell_type": "markdown",
      "metadata": {
        "id": "j6RGoOy7Tvwu"
      },
      "source": [
        "#  5.3 Exercise 2.\n",
        "\n",
        "Define a function named \"even.\" This function expects a number as an argument and returns True if the number is divisible by 2, or it returns False otherwise. (Hint: A number is evenly divisible by 2 if the remainder is 0.)"
      ]
    },
    {
      "cell_type": "code",
      "metadata": {
        "id": "-gtsRwxiUkLm",
        "outputId": "8dfd0bda-3e5e-4a8f-8bb3-717ba2af2e55",
        "colab": {
          "base_uri": "https://localhost:8080/",
          "height": 51
        }
      },
      "source": [
        "\"\"\"\n",
        "File:  make even\n",
        "\"\"\"\n",
        "\n",
        "def main():\n",
        "    \"\"\" the main function\"\"\"\n",
        "    number = float(input(\"Enter a number:  \"))\n",
        "    result = even(number)\n",
        "    print(\"The even number of:  \", number,  \"is\", result)\n",
        "    \n",
        "def even(x):\n",
        "    \"\"\"Returns the even of x. \"\"\"\n",
        "    return x % 2 == 0\n",
        "\n",
        "# The entry point for program execution\n",
        "if __name__ == \"__main__\":\n",
        "    main()"
      ],
      "execution_count": 31,
      "outputs": [
        {
          "output_type": "stream",
          "text": [
            "Enter a number:  4\n",
            "The even number of:   4.0 is True\n"
          ],
          "name": "stdout"
        }
      ]
    }
  ]
}