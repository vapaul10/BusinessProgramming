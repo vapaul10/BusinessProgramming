{
  "nbformat": 4,
  "nbformat_minor": 0,
  "metadata": {
    "colab": {
      "name": "2.8LightYear.ipynb",
      "provenance": [],
      "collapsed_sections": [],
      "authorship_tag": "ABX9TyM3PpcJPc2ftXgc/k9D/Ura",
      "include_colab_link": true
    },
    "kernelspec": {
      "name": "python3",
      "display_name": "Python 3"
    }
  },
  "cells": [
    {
      "cell_type": "markdown",
      "metadata": {
        "id": "view-in-github",
        "colab_type": "text"
      },
      "source": [
        "<a href=\"https://colab.research.google.com/github/vapaul10/BusinessProgramming/blob/Project-2.8-Light-Year/2_8LightYear.ipynb\" target=\"_parent\"><img src=\"https://colab.research.google.com/assets/colab-badge.svg\" alt=\"Open In Colab\"/></a>"
      ]
    },
    {
      "cell_type": "code",
      "metadata": {
        "id": "5MxxgZ3gAQve",
        "colab_type": "code",
        "colab": {
          "base_uri": "https://localhost:8080/",
          "height": 34
        },
        "outputId": "02964dac-877c-44f8-b1c5-a5d1f9746c34"
      },
      "source": [
        "# -*- coding: utf-8 -*-\n",
        "\"\"\"\n",
        "Program: 2.8lightyear.py\n",
        "ISTM 631 Professor Arash Vafanejad\n",
        "Week 2 Project 2.8\n",
        "Author: Valeri Paul\n",
        "Project 2.8 ISTM 631 Light travels at 3 * 108 meters per second.\n",
        "    A light year is the distance a light beam travels in one year.\n",
        "   This is a program to compute or calculate and display the value of a light year.\n",
        "\n",
        "Science facts:\n",
        "   rate = 3 * 10 ** 8 meters per second\n",
        "   seconds in a year = 365 * 24 * 60 ** 2\n",
        "\n",
        "\"\"\"         \n",
        "\n",
        "# Compute the result\n",
        "rate = 3 * 10 ** 8\n",
        "seconds = 365 * 24 * 60 ** 2\n",
        "distance = rate * seconds\n",
        "\n",
        "# Display the result\n",
        "print(\"Light travels\", distance, \"meters in a year.\")\n"
      ],
      "execution_count": 4,
      "outputs": [
        {
          "output_type": "stream",
          "text": [
            "Light travels 9460800000000000 meters in a year.\n"
          ],
          "name": "stdout"
        }
      ]
    },
    {
      "cell_type": "code",
      "metadata": {
        "id": "6TBWXf6HNjVG",
        "colab_type": "code",
        "colab": {}
      },
      "source": [
        ""
      ],
      "execution_count": null,
      "outputs": []
    }
  ]
}