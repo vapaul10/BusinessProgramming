{
  "nbformat": 4,
  "nbformat_minor": 0,
  "metadata": {
    "colab": {
      "name": "Copy of 2_2taxform.ipynb",
      "provenance": [],
      "collapsed_sections": [],
      "include_colab_link": true
    },
    "kernelspec": {
      "name": "python3",
      "display_name": "Python 3"
    }
  },
  "cells": [
    {
      "cell_type": "markdown",
      "metadata": {
        "id": "view-in-github",
        "colab_type": "text"
      },
      "source": [
        "<a href=\"https://colab.research.google.com/github/vapaul10/BusinessProgramming/blob/Case2.2/Copy_of_2_2taxform.ipynb\" target=\"_parent\"><img src=\"https://colab.research.google.com/assets/colab-badge.svg\" alt=\"Open In Colab\"/></a>"
      ]
    },
    {
      "cell_type": "code",
      "metadata": {
        "id": "iIOqo6BNSKbL",
        "colab_type": "code",
        "colab": {
          "base_uri": "https://localhost:8080/",
          "height": 103
        },
        "outputId": "3b6e3bfc-0327-44dc-d4c7-13c440445372"
      },
      "source": [
        "# -*- coding: utf-8 -*-\n",
        "\"\"\"\n",
        "Program: taxform.py\n",
        "Author: Valeri Paul\n",
        "Purpose:  Calculate Personal Income Tax. Week 2 2.2 Case Study\n",
        "1. Significant constants\n",
        "\t  tax rate\n",
        "\t  standard deduction\n",
        "\t  deduction per dependent\n",
        "2. The inputs are\n",
        "\t  gross income\n",
        "\t\tnumber of dependents\n",
        "3. Compute:\n",
        "  \ttaxable income = gross income - the standard deduction\n",
        "\t\t  - a deduction for each dependent\n",
        "  \tincome tax = is a fixed percentage of the taxable income\n",
        "4. The outputs are\n",
        "\t    the income tax owed or refunded\n",
        "      \n",
        "      Note:  The real challenge is coming up with sets of inputs that reveal\n",
        "\t\t\tan error.\n",
        "  \"\"\"\n",
        "\n",
        "#Initialize the constants\n",
        "TAX_RATE = 0.20\n",
        "STANDARD_DEDUCTION = 10000.0\n",
        "DEPENDENT_DEDUCTION = 3000.0\n",
        "\n",
        "\n",
        "#Request the inputs\n",
        "grossIncome = float(input(\"Enter the gross income:\"))\n",
        "numDependents = int(input(\"Enter the number of dependents:\"))\n",
        "\n",
        "\n",
        "#Compute the income tax\n",
        "taxableIncome = grossIncome - STANDARD_DEDUCTION -\\\n",
        "\tDEPENDENT_DEDUCTION * numDependents\n",
        "incomeTax = taxableIncome * TAX_RATE\n",
        "\n",
        "#Display the income tax\n",
        "print(\"The income tax is $\"+ str(incomeTax))\n",
        "pause = str(input(\"Click enter to close\") )\n",
        "print(pause)\n",
        "\n",
        "\n"
      ],
      "execution_count": null,
      "outputs": [
        {
          "output_type": "stream",
          "text": [
            "Enter the gross income:10000\n",
            "Enter the number of dependents:1\n",
            "The income tax is $-600.0\n",
            "Click enter to close\n",
            "\n"
          ],
          "name": "stdout"
        }
      ]
    }
  ]
}