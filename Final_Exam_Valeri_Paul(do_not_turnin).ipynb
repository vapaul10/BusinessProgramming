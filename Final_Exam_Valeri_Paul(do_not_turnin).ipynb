{
  "nbformat": 4,
  "nbformat_minor": 0,
  "metadata": {
    "colab": {
      "name": "Final Exam Valeri Paul(do not turnin).ipynb",
      "provenance": [],
      "collapsed_sections": [],
      "authorship_tag": "ABX9TyNALtakQaOsTqgEvg1vleZi",
      "include_colab_link": true
    },
    "kernelspec": {
      "name": "python3",
      "display_name": "Python 3"
    }
  },
  "cells": [
    {
      "cell_type": "markdown",
      "metadata": {
        "id": "view-in-github",
        "colab_type": "text"
      },
      "source": [
        "<a href=\"https://colab.research.google.com/github/vapaul10/BusinessProgramming/blob/Week-7-Final/Final_Exam_Valeri_Paul(do_not_turnin).ipynb\" target=\"_parent\"><img src=\"https://colab.research.google.com/assets/colab-badge.svg\" alt=\"Open In Colab\"/></a>"
      ]
    },
    {
      "cell_type": "markdown",
      "metadata": {
        "id": "gy9ebTeZI14S"
      },
      "source": [
        "#Q1\n",
        "Write and test a program that accepts the user’s name (as text) and age (as a number) as input. The program should output how many characters are in the user’s name and age.\n",
        "\n"
      ]
    },
    {
      "cell_type": "code",
      "metadata": {
        "id": "CWE6aXxEU9na",
        "outputId": "1993a750-7455-40b8-df4b-4d7dc3e244a2",
        "colab": {
          "base_uri": "https://localhost:8080/",
          "height": 103
        }
      },
      "source": [
        "import random\n",
        "name = input(\"Enter a name: \")\n",
        "age = input(\"Please list your age: \")\n",
        "#Enter a name: \n",
        "listOfletters = name.split()\n",
        "listAge = str(age)\n",
        "print(\"Your name \", len(listOfletters), \"letter.\")\n",
        "#There are 6 words.\n",
        "sum = 0\n",
        "for letters in listOfletters:\n",
        "  sum += len(name)\n",
        "for digits in listAge:\n",
        "  len(listAge)\n",
        "print(\"The number of letters in your name is\", sum/ len(listOfletters))\n",
        "print(\"The number of digits in age\", len(listAge))"
      ],
      "execution_count": null,
      "outputs": [
        {
          "output_type": "stream",
          "text": [
            "Enter a name: val\n",
            "Please list your age: 22\n",
            "Your name  1 letter.\n",
            "The number of letters in your name is 3.0\n",
            "The number of digits in age 2\n"
          ],
          "name": "stdout"
        }
      ]
    },
    {
      "cell_type": "markdown",
      "metadata": {
        "id": "YFVxgjSH04dO"
      },
      "source": [
        "#Q2\n",
        "\n",
        "Enter an input statement using the input function at the shell prompt. When the prompt asks you for input, enter a number. Then, attempt to add 1 to that number, observe the results, and explain what happened.\n",
        "\n",
        "Answer:  TypeError: must be str, not int\n",
        "  number is reads a string not a number"
      ]
    },
    {
      "cell_type": "code",
      "metadata": {
        "id": "4nEei1eY03uk"
      },
      "source": [
        "#Answer:  TypeError: must be str, not int\n",
        "#  number is read as a string not a number.\n",
        "\n",
        "num = int(input('Number:') + 1)\n",
        "print(num)\n"
      ],
      "execution_count": null,
      "outputs": []
    },
    {
      "cell_type": "markdown",
      "metadata": {
        "id": "J31R3LaH0yPN"
      },
      "source": [
        "#Q3\n",
        "\n",
        "Write a program that calculates and prints the number of minutes in a year."
      ]
    },
    {
      "cell_type": "code",
      "metadata": {
        "id": "bebgh5PL0xYF",
        "outputId": "901268dc-e8b0-45e3-d479-8631892e57e6",
        "colab": {
          "base_uri": "https://localhost:8080/",
          "height": 51
        }
      },
      "source": [
        "# Calculate and print the number of minutes in a year.\n",
        "minutes = 365 * 24 * 60  \n",
        "\n",
        "# Display the result\n",
        "print(\"The number of minutes in a year is\", minutes)\n",
        "\n",
        "pause = input(\"Click Enter to close: \")\n"
      ],
      "execution_count": null,
      "outputs": [
        {
          "output_type": "stream",
          "text": [
            "The number of minutes in a year is 525600\n",
            "Click Enter to close: \n"
          ],
          "name": "stdout"
        }
      ]
    },
    {
      "cell_type": "markdown",
      "metadata": {
        "id": "wzlBAX2u0nhh"
      },
      "source": [
        "#Q4\n",
        "\n",
        "An employee’s total weekly pay equals the hourly wage multiplied by the total number of regular hours plus any overtime pay. Overtime pay equals the total overtime hours multiplied by 1.5 times the hourly wage. Write a program that takes as inputs the hourly wage, total regular hours, and total overtime hours and displays an employee’s total weekly pay."
      ]
    },
    {
      "cell_type": "code",
      "metadata": {
        "id": "6seB2zcK0mu8"
      },
      "source": [
        "# Request the inputs\n",
        "wage = float(input(\"Enter the wage: $\"))  \n",
        "regularHours = float(input(\"Enter the regular hours: \"))  \n",
        "overtimeHours = float(input(\"Enter the overtime hours: \"))  \n",
        "\n",
        "# Compute the result\n",
        "totalPay = regularHours * wage + overtimeHours * wage * 1.5\n",
        "\n",
        "# Display the result\n",
        "print(\"The total weekly pay is $\" + str(round(totalPay, 2)))"
      ],
      "execution_count": null,
      "outputs": []
    },
    {
      "cell_type": "markdown",
      "metadata": {
        "id": "Cdp2WV2g0bak"
      },
      "source": [
        "#Q5\n",
        "\n",
        "Write a program that receives a series of numbers from the user and allows the user to press the enter key to indicate that he or she is finished providing inputs. After the user presses the enter key, the program should print the sum of the numbers and their average.\n",
        "\n"
      ]
    },
    {
      "cell_type": "code",
      "metadata": {
        "id": "Y4UWD4jv0hos"
      },
      "source": [
        "#Loop Intro\n",
        "\n",
        "theSum = 0\n",
        "count = 0\n",
        "while True:\n",
        "  number = input(\"Let's total your number(s). \\nEnter a number OR just click Enter to quit: \\n\")\n",
        "  if number == \"\":\n",
        "    break\n",
        "    theSum += float(number)\n",
        "    count += 1\n",
        "\n",
        "print(\"The sum is\", theSum)\n",
        "if count > 0:\n",
        "  print(\"The average is\", theSum / count)\n",
        "  \n",
        "pause = str(input(\"That's All!  \\nEnter return to end: \"))\n"
      ],
      "execution_count": null,
      "outputs": []
    },
    {
      "cell_type": "markdown",
      "metadata": {
        "id": "f_2K6CVD0T9d"
      },
      "source": [
        "#Q6\n",
        "\n",
        "In the game of Lucky Sevens, the player rolls a pair of dice. If the dots add up to 7, the player wins $4;otherwise, the player loses $1. Suppose that, to entice the gullible, a casino tells players that there are lots of ways to win: (1, 6), (2, 5), and so on. A little mathematical analysis reveals that there are not enough ways to win to make the game worthwhile; however, because many people’s eyes glaze over at the first mention of mathematics, your challenge is to write a program that demonstrates the futility of playing the game. Your program should take as input the amount of money that the player wants to put into the pot, and play the game until the pot is empty. At that point, the program should print the number of rolls it took to break the player, as well as maximum amount of money in the pot."
      ]
    },
    {
      "cell_type": "code",
      "metadata": {
        "id": "CUtthECL0TaO",
        "outputId": "1ee73853-65a1-4ba5-9344-b99c0cf2d832",
        "colab": {
          "base_uri": "https://localhost:8080/",
          "height": 69
        }
      },
      "source": [
        "import math\n",
        "import random\n",
        "\n",
        "# Request the input\n",
        "dollars = int(input(\"How many dollars do you have? \"))\n",
        "\n",
        "# Initialize variables\n",
        "maxDollars = dollars\n",
        "countAtMax = 0\n",
        "count = 0\n",
        "\n",
        "# Loop until the money is gone\n",
        "while dollars > 0:\n",
        "    count += 1\n",
        "    # Roll the dice\n",
        "    die1 = random.randint(1, 6)  # 1-6 \n",
        "    die2 = random.randint(1, 6)  # 1-6\n",
        "    #Calculate the winnings or losses\n",
        "    if die1 + die2 == 7:\n",
        "        dollars += 4\n",
        "    else: \n",
        "        dollars -= 1 \n",
        "    #If this is a new maximum, remember it\n",
        "    if dollars > maxDollars:\n",
        "        maxDollars = dollars\n",
        "        countAtMax = count\n",
        "\n",
        "# Display the results\n",
        "print(\"Sorry!  You went broke after \" + str(count) + \" rolls.\\n\" + \\\n",
        "      \"Recommend quitting after \" + str(countAtMax) + \\\n",
        "      \" rolls when you had $\" + str(maxDollars) + \".\")\n"
      ],
      "execution_count": null,
      "outputs": [
        {
          "output_type": "stream",
          "text": [
            "How many dollars do you have? 45\n",
            "Sorry!  You went broke after 135 rolls.\n",
            "Recommend quitting after 0 rolls when you had $45.\n"
          ],
          "name": "stdout"
        }
      ]
    },
    {
      "cell_type": "markdown",
      "metadata": {
        "id": "PIf2--KR0IXV"
      },
      "source": [
        "#Q7\n",
        "\n",
        "The Payroll Department keeps a list of employee information for each pay period in a text file. The format of each line of the file is the following:\n",
        "\n",
        "<last name> <hourly wage> <hours worked>\n"
      ]
    },
    {
      "cell_type": "code",
      "metadata": {
        "id": "QdBCuuuG0ICL",
        "outputId": "944e0c27-a917-4149-b4ee-f307607402b4",
        "colab": {
          "base_uri": "https://localhost:8080/",
          "height": 155
        }
      },
      "source": [
        "\"\"\"\n",
        "Program: payroll.py\n",
        "and make sure this file is in the same folder data.txt\n",
        "Valeri Paul\n",
        "\n",
        "Print a payroll report. Write a program that inputs a filename from the user\n",
        "and prints to the terminal a report of the wages paid to the employees for the given period.\n",
        "The report should be in tabular format with the appropriate header.\n",
        "Each line should contain an employee’s name, the hours worked, and the wages paid for that period.\n",
        "\n",
        "Input\n",
        "   A file in which each line has the form\n",
        "   \n",
        "   <last name> <hourly wage> <hours worked>\n",
        "\n",
        "Output\n",
        "   A report in tabular format.  Each line has the form\n",
        "\n",
        "   <last name> <hours worked> <total wages>   \n",
        "\"\"\"\n",
        "\n",
        "# Take the inputs\n",
        "fileName = input(\"Enter the filename -> data.txt:  \")\n",
        "\n",
        "# Open the input file\n",
        "inputFile = open(fileName, 'r')\n",
        "\n",
        "# Read the data and print the report\n",
        "print(\"%-15s%6s%15s\" % (\"Name\", \"Hours\", \"Total Pay\"))\n",
        "for line in inputFile:\n",
        "    dataList = line.split()\n",
        "    name = dataList[0]\n",
        "    hours = int(dataList[1])\n",
        "    payRate = float(dataList[2])\n",
        "    totalPay = hours * payRate\n",
        "    print(\"%-15s%6d%15.2f\" % (name, hours, totalPay))\n",
        "    \n",
        "\n",
        "print(inputFile)\n",
        "    \n",
        "pause = str(input(\"Click enter to close. \\n\"))\n"
      ],
      "execution_count": null,
      "outputs": [
        {
          "output_type": "stream",
          "text": [
            "Enter the filename -> data.txt:  data.txt\n",
            "Name            Hours      Total Pay\n",
            "Vafanejad          20        2010.00\n",
            "Paul              100        1025.00\n",
            "SmartStudent        5         250.00\n",
            "<_io.TextIOWrapper name='data.txt' mode='r' encoding='UTF-8'>\n",
            "Click enter to close. \n",
            "\n"
          ],
          "name": "stdout"
        }
      ]
    },
    {
      "cell_type": "markdown",
      "metadata": {
        "id": "veKKFhFaz7dV"
      },
      "source": [
        "#Q8\n",
        "\n",
        "Write a program that inputs a filename from the user and prints to the terminal a report of the wages paid to the employees for the given period. The report should be in tabular format with the appropriate header. Each line should contain an employee’s name, the hours worked, and the wages paid for that period."
      ]
    },
    {
      "cell_type": "code",
      "metadata": {
        "id": "3G4AM_aBz6iQ",
        "outputId": "9b675025-3a9a-42b7-d5d8-ff5e4012e75c",
        "colab": {
          "base_uri": "https://localhost:8080/",
          "height": 120
        }
      },
      "source": [
        "# Take the inputs\n",
        "fileName = str(input(\"Enter the file name --> data.txt: \"))\n",
        "\n",
        "# Open the input file\n",
        "inputFile = open(fileName, 'r')\n",
        "\n",
        "# Read the data and print the report\n",
        "print(\"%-15s%6s%15s\" % (\"Name\", \"Hours\", \"Total Pay\"))\n",
        "for line in inputFile:\n",
        "  dataList = line.split()\n",
        "  name = dataList[0]\n",
        "  hours = int(dataList[1])\n",
        "  payRate = float(dataList[2])\n",
        "  totalPay = hours * payRate\n",
        "  print(\"%-15s%6d%15.2f\" % (name, hours, totalPay))\n",
        "\n",
        "print(inputFile)\n",
        "#pause = str(input(\"Click enter to close. \\n\"))\n"
      ],
      "execution_count": null,
      "outputs": [
        {
          "output_type": "stream",
          "text": [
            "Enter the file name --> data.txt: data.txt\n",
            "Name            Hours      Total Pay\n",
            "Vafanejad          20        2010.00\n",
            "Paul              100        1025.00\n",
            "SmartStudent        5         250.00\n",
            "<_io.TextIOWrapper name='data.txt' mode='r' encoding='UTF-8'>\n"
          ],
          "name": "stdout"
        }
      ]
    },
    {
      "cell_type": "markdown",
      "metadata": {
        "id": "B9HybHNnyNq7"
      },
      "source": [
        "#Q9\n",
        "\n",
        "Write a program that inputs a text file. The program should print the unique words in the file in alphabetical order."
      ]
    },
    {
      "cell_type": "code",
      "metadata": {
        "id": "c5RrdyUayNGV",
        "outputId": "1873af4c-da0e-4106-f192-2ac0895a3143",
        "colab": {
          "base_uri": "https://localhost:8080/",
          "height": 395
        }
      },
      "source": [
        "\"\"\"\n",
        "File: unique-vp.py\n",
        "Prints the unique words in a text file (unique.txt is attached) in alphabetical order.\n",
        "\"\"\"\n",
        "\n",
        "# Take the input file name\n",
        "inName = input(\"Enter the input file name (unique.txt): \")\n",
        "\n",
        "# Open the input file and initialize list of unique words\n",
        "inputFile = open(inName, 'r')\n",
        "uniqueWords = []\n",
        "\n",
        "# Add the unique words in the file to the list\n",
        "for line in inputFile:\n",
        "    words = line.split()\n",
        "    for word in words:\n",
        "        if not word in uniqueWords:\n",
        "            uniqueWords.append(word)\n",
        "uniqueWords.sort()\n",
        "\n",
        "# Prints the unique words\n",
        "for word in uniqueWords:\n",
        "    print(\"enter exit to end \\n\", word)\n",
        "\n",
        "print(inputFile)\n",
        "    \n",
        "pause = str(input(\"Click enter to close. \\n\"))"
      ],
      "execution_count": null,
      "outputs": [
        {
          "output_type": "stream",
          "text": [
            "Enter the input file name (unique.txt): unique.txt\n",
            "enter exit to end \n",
            " different\n",
            "enter exit to end \n",
            " grande\n",
            "enter exit to end \n",
            " less\n",
            "enter exit to end \n",
            " loco\n",
            "enter exit to end \n",
            " minor\n",
            "enter exit to end \n",
            " more\n",
            "enter exit to end \n",
            " normal\n",
            "enter exit to end \n",
            " python\n",
            "enter exit to end \n",
            " same\n",
            "<_io.TextIOWrapper name='unique.txt' mode='r' encoding='UTF-8'>\n",
            "Click enter to close. \n",
            "\n"
          ],
          "name": "stdout"
        }
      ]
    },
    {
      "cell_type": "markdown",
      "metadata": {
        "id": "aNv53nSst6fV"
      },
      "source": [
        ""
      ]
    },
    {
      "cell_type": "markdown",
      "metadata": {
        "id": "tvC_Rhv-x9vF"
      },
      "source": [
        "#Q10\n",
        "What is a higher-order function? Write a program that computes and prints the average of the numbers in a text file. You should make use of two higher-order functions to simplify the design.\n",
        "\n",
        "\n",
        "\n"
      ]
    },
    {
      "cell_type": "markdown",
      "metadata": {
        "id": "M-STVi3huODL"
      },
      "source": [
        "\"\"\"\n",
        "\n",
        "images.py\n",
        "\n",
        "To instantiate an image from a file, enter\n",
        "\n",
        "image = Image(aGifFileName)                   \n",
        "\n",
        "To instantiate a blank image, enter\n",
        "\n",
        "image = Image(aWidth, aHeight)\n",
        "\n",
        "Image methods:\n",
        "\n",
        "draw()                          Displays the image in a window \n",
        "getWidth()  -> anInt            The width in pixels\n",
        "getHeight() -> anInt            The height in pixels\n",
        "getPixel(x, y)  -> (r, g, b)    The RGB values of pixel at x, y\n",
        "setPixel(x, y, (r, g, b))       Resets pixel at x, y to (r, g, b)\n",
        "save()                          Saves the image to the current file name\n",
        "save(aFileName)                 Saves the image to fileName\n",
        "\n",
        "LICENSE: This is open-source software released under the terms of the\n",
        "GPL (http://www.gnu.org/licenses/gpl.html).\n",
        "\"\"\""
      ]
    },
    {
      "cell_type": "code",
      "metadata": {
        "id": "4IfI5e3ct8gF"
      },
      "source": [
        "import tkinter\n",
        "import os, os.path\n",
        "import pydot\n",
        "tk = tkinter\n",
        "\n",
        "_root = None\n",
        "\n",
        "class ImageView(tk.Canvas):\n",
        "    def __init__(self, image,\n",
        "                 title = \"New Image\",\n",
        "                 autoflush=False):\n",
        "        master = tk.Toplevel(_root)\n",
        "        master.protocol(\"WM_DELETE_WINDOW\", self.close)\n",
        "        tk.Canvas.__init__(self, master,\n",
        "                           width = image.getWidth(),\n",
        "                           height = image.getHeight())\n",
        "        self.master.title(title)\n",
        "        self.pack()\n",
        "        master.resizable(0,0)\n",
        "        self.image = image\n",
        "        self.height = image.getHeight()\n",
        "        self.width = image.getWidth()\n",
        "        self.autoflush = autoflush\n",
        "        self.closed = False\n",
        "\n",
        "    def close(self):\n",
        "        \"\"\"Close the window\"\"\"\n",
        "        self.closed = True\n",
        "        self.master.destroy()\n",
        "        self.image.canvas = None\n",
        "        _root.quit()\n",
        "\n",
        "    def isClosed(self):\n",
        "        return self.closed\n",
        "\n",
        "    def getHeight(self):\n",
        "        \"\"\"Return the height of the window\"\"\"\n",
        "        return self.height\n",
        "\n",
        "    def getWidth(self):\n",
        "        \"\"\"Return the width of the window\"\"\"\n",
        "        return self.width\n",
        "\n",
        "class Image:\n",
        "        \n",
        "    def __init__(self, *args):\n",
        "        self.canvas = None\n",
        "        if len(args) == 1:\n",
        "            name = args[0]\n",
        "            if type(name) != str:\n",
        "                raise Exception('Must be a file name')\n",
        "            if name[-4:].upper() != '.GIF':\n",
        "                raise Exception('File must be a GIF')\n",
        "            if not os.path.exists(args[0]):\n",
        "                raise Exception('File not in current directory')\n",
        "            self.image = tk.PhotoImage(file = args[0], master = _root)\n",
        "            self.filename = args[0]\n",
        "            self.width = self.image.width()\n",
        "            self.height = self.image.height()\n",
        "        else: # arguments are width and height\n",
        "            self.width, self.height = args\n",
        "            self.image = tk.PhotoImage(master =_root,\n",
        "                                       width = self.width,\n",
        "                                       height = self.height)\n",
        "            self.filename = \"\"\n",
        "            \t\t\n",
        "    def getWidth(self):\n",
        "        \"\"\"Returns the width of the image in pixels\"\"\"\n",
        "        return self.width\n",
        "\n",
        "    def getHeight(self):\n",
        "        \"\"\"Returns the height of the image in pixels\"\"\"\n",
        "        return self.height\n",
        "\n",
        "    def getPixel(self, x, y):\n",
        "        \"\"\"Returns a tuple (r,g,b) with the RGB color values for pixel (x,y)\n",
        "        r,g,b are in range(256)\n",
        "\n",
        "        \"\"\"\n",
        "        value = self.image.get(x, y)\n",
        "        if type(value) == int:\n",
        "            return (value, value, value)\n",
        "        elif type(value) == tuple:\n",
        "            return value\n",
        "        else:\n",
        "            return tuple(map(int, value.split()))\n",
        "\n",
        "    def setPixel(self, x, y, color):\n",
        "        \"\"\"Sets pixel (x,y) to the color given by RGB values r, g, and b.\n",
        "        r,g,b should be in range(256)\n",
        "\n",
        "        \"\"\"\n",
        "        (r, g, b) = color\n",
        "        r = round(r)\n",
        "        g = round(g)\n",
        "        b = round(b)\n",
        "        color = (r, g, b)\n",
        "        self.image.put(\"{#%02x%02x%02x}\" % color, (x, y))\n",
        "\n",
        "    def draw(self):\n",
        "        \"\"\"Creates and opens a window on an image.\n",
        "        The user must close the window to return control to\n",
        "        the caller.\"\"\"\n",
        "        if not self.canvas:\n",
        "            self.canvas = ImageView(self,\n",
        "                                    self.filename)\n",
        "        self.canvas.create_image(self.width // 2,\n",
        "                                 self.height // 2,\n",
        "                                 image = self.image)\n",
        "        _root.mainloop()\n",
        "\n",
        "    def save(self, filename = \"\"):\n",
        "        \"\"\"Saves the image to filename.  If no file name\n",
        "        is provided, uses the image's file name if there\n",
        "        is one; otherwise, simply returns.\n",
        "        If the .gif extension is not present, it is added.\n",
        "        \"\"\"\n",
        "        if filename == \"\":\n",
        "            return\n",
        "        else:\n",
        "            self.filename = filename\n",
        "        path, name = os.path.split(filename)\n",
        "        ext = name.split(\".\")[-1]\n",
        "        if ext != \"gif\":\n",
        "            filename += \".gif\"\n",
        "            self.filename = filename\n",
        "        self.image.write(self.filename, format = \"gif\")\n",
        "\n",
        "    def clone(self):\n",
        "        new = Image(self.width, self.height)\n",
        "        new.image = self.image.copy()\n",
        "        return new\n",
        "\n",
        "    def __str__(self):\n",
        "        rep = \"\"\n",
        "        if self.filename:\n",
        "            rep += (\"File name: \" + self.filename + \"\\n\")\n",
        "        rep += (\"Width:  \" + str(self.width) + \\\n",
        "                \"\\nHeight: \" + str(self.height))\n",
        "        return rep\n",
        "\n",
        "#_root = tk.Tk()\n",
        "#_root.withdraw()"
      ],
      "execution_count": 83,
      "outputs": []
    },
    {
      "cell_type": "code",
      "metadata": {
        "id": "IW-zmT74x87e"
      },
      "source": [
        "#from images import Image\n",
        "import pydot\n",
        "\n",
        "\n",
        "def colorFilter(image, rgbTriple):\n",
        "    \"\"\"Adds the given rgb values to each pixel after normalizing.\"\"\"\n",
        "    \n",
        "    def baseValue(value, offset):\n",
        "        \"\"\"Normalizes value so that 0 <= value <= 255.\"\"\"\n",
        "        if offset == 0:\n",
        "            return value\n",
        "        elif offset < 0:\n",
        "            return max(value + offset, 0)\n",
        "        else:\n",
        "            return min(value + offset, 255)\n",
        "        \n",
        "    for y in range(image.getHeight()):\n",
        "        for x in range(image.getWidth()):\n",
        "            (r, g, b) = image.getPixel(x, y)\n",
        "            r = baseValue(r, rgbTriple[0])\n",
        "            g = baseValue(g, rgbTriple[1])\n",
        "            b = baseValue(b, rgbTriple[2])\n",
        "            image.setPixel(x, y, (r, g, b))\n",
        "\n",
        "def lighten(image, amount):\n",
        "    \"\"\"Lightens image by amount.\"\"\"\n",
        "    colorFilter(image, (amount, amount, amount))\n",
        "\n",
        "def darken(image, amount):\n",
        "    \"\"\"Darkens image by amount.\"\"\"\n",
        "    colorFilter(image, (-amount, -amount, -amount))\n",
        "\n",
        "def main():\n",
        "    filename = input(\"Enter the image file name --> f18.gif:  \")\n",
        "    image = Image(filename)\n",
        "    print(\"Close the window to view the changes to the image\")\n",
        "    image.draw()\n",
        "    lighten(image, 20)\n",
        "    # darken(image, 20)\n",
        "    image.draw()\n",
        "\n",
        "if __name__ == \"__main__\":\n",
        "   main()\n"
      ],
      "execution_count": null,
      "outputs": []
    },
    {
      "cell_type": "markdown",
      "metadata": {
        "id": "y4hCloM4xmOr"
      },
      "source": [
        "#Q11  \n",
        "\n",
        "\n",
        "Define and test a function named posterize. This function expects an image and a tuple of RGB values as arguments. The function modifies the image like the blackAndWhite function, but it uses the given RGB values instead of black. You can learn more about posterization in the following page: https://en.wikipedia.org/wiki/Posterization\n",
        "\n",
        "\n"
      ]
    },
    {
      "cell_type": "code",
      "metadata": {
        "id": "nubqOBOkz1dE"
      },
      "source": [
        "import tkinter\n",
        "import os, os.path\n",
        "tk = tkinter\n",
        "\n",
        "_root = None\n",
        "\n",
        "class ImageView(tk.Canvas):\n",
        "    def __init__(self, image,\n",
        "                 title = \"New Image\",\n",
        "                 autoflush=False):\n",
        "        master = tk.Toplevel(_root)\n",
        "        master.protocol(\"WM_DELETE_WINDOW\", self.close)\n",
        "        tk.Canvas.__init__(self, master,\n",
        "                           width = image.getWidth(),\n",
        "                           height = image.getHeight())\n",
        "        self.master.title(title)\n",
        "        self.pack()\n",
        "        master.resizable(0,0)\n",
        "        self.image = image\n",
        "        self.height = image.getHeight()\n",
        "        self.width = image.getWidth()\n",
        "        self.autoflush = autoflush\n",
        "        self.closed = False\n",
        "\n",
        "    def close(self):\n",
        "        \"\"\"Close the window\"\"\"\n",
        "        self.closed = True\n",
        "        self.master.destroy()\n",
        "        self.image.canvas = None\n",
        "        _root.quit()\n",
        "\n",
        "    def isClosed(self):\n",
        "        return self.closed\n",
        "\n",
        "    def getHeight(self):\n",
        "        \"\"\"Return the height of the window\"\"\"\n",
        "        return self.height\n",
        "\n",
        "    def getWidth(self):\n",
        "        \"\"\"Return the width of the window\"\"\"\n",
        "        return self.width\n",
        "\n",
        "class Image:\n",
        "        \n",
        "    def __init__(self, *args):\n",
        "        self.canvas = None\n",
        "        if len(args) == 1:\n",
        "            name = args[0]\n",
        "            if type(name) != str:\n",
        "                raise Exception('Must be a file name')\n",
        "            if name[-4:].upper() != '.GIF':\n",
        "                raise Exception('File must be a GIF')\n",
        "            if not os.path.exists(args[0]):\n",
        "                raise Exception('File not in current directory')\n",
        "            self.image = tk.PhotoImage(file = args[0], master = _root)\n",
        "            self.filename = args[0]\n",
        "            self.width = self.image.width()\n",
        "            self.height = self.image.height()\n",
        "        else: # arguments are width and height\n",
        "            self.width, self.height = args\n",
        "            self.image = tk.PhotoImage(master =_root,\n",
        "                                       width = self.width,\n",
        "                                       height = self.height)\n",
        "            self.filename = \"\"\n",
        "            \t\t\n",
        "    def getWidth(self):\n",
        "        \"\"\"Returns the width of the image in pixels\"\"\"\n",
        "        return self.width\n",
        "\n",
        "    def getHeight(self):\n",
        "        \"\"\"Returns the height of the image in pixels\"\"\"\n",
        "        return self.height\n",
        "\n",
        "    def getPixel(self, x, y):\n",
        "        \"\"\"Returns a tuple (r,g,b) with the RGB color values for pixel (x,y)\n",
        "        r,g,b are in range(256)\n",
        "\n",
        "        \"\"\"\n",
        "        value = self.image.get(x, y)\n",
        "        if type(value) == int:\n",
        "            return (value, value, value)\n",
        "        elif type(value) == tuple:\n",
        "            return value\n",
        "        else:\n",
        "            return tuple(map(int, value.split()))\n",
        "\n",
        "    def setPixel(self, x, y, color):\n",
        "        \"\"\"Sets pixel (x,y) to the color given by RGB values r, g, and b.\n",
        "        r,g,b should be in range(256)\n",
        "\n",
        "        \"\"\"\n",
        "        (r, g, b) = color\n",
        "        r = round(r)\n",
        "        g = round(g)\n",
        "        b = round(b)\n",
        "        color = (r, g, b)\n",
        "        self.image.put(\"{#%02x%02x%02x}\" % color, (x, y))\n",
        "\n",
        "    def draw(self):\n",
        "        \"\"\"Creates and opens a window on an image.\n",
        "        The user must close the window to return control to\n",
        "        the caller.\"\"\"\n",
        "        if not self.canvas:\n",
        "            self.canvas = ImageView(self,\n",
        "                                    self.filename)\n",
        "        self.canvas.create_image(self.width // 2,\n",
        "                                 self.height // 2,\n",
        "                                 image = self.image)\n",
        "        _root.mainloop()\n",
        "\n",
        "    def save(self, filename = \"\"):\n",
        "        \"\"\"Saves the image to filename.  If no file name\n",
        "        is provided, uses the image's file name if there\n",
        "        is one; otherwise, simply returns.\n",
        "        If the .gif extension is not present, it is added.\n",
        "        \"\"\"\n",
        "        if filename == \"\":\n",
        "            return\n",
        "        else:\n",
        "            self.filename = filename\n",
        "        path, name = os.path.split(filename)\n",
        "        ext = name.split(\".\")[-1]\n",
        "        if ext != \"gif\":\n",
        "            filename += \".gif\"\n",
        "            self.filename = filename\n",
        "        self.image.write(self.filename, format = \"gif\")\n",
        "\n",
        "    def clone(self):\n",
        "        new = Image(self.width, self.height)\n",
        "        new.image = self.image.copy()\n",
        "        return new\n",
        "\n",
        "    def __str__(self):\n",
        "        rep = \"\"\n",
        "        if self.filename:\n",
        "            rep += (\"File name: \" + self.filename + \"\\n\")\n",
        "        rep += (\"Width:  \" + str(self.width) + \\\n",
        "                \"\\nHeight: \" + str(self.height))\n",
        "        return rep\n",
        "    \t\t\n",
        "_root = tk.Tk()\n",
        "_root.withdraw()\n"
      ],
      "execution_count": null,
      "outputs": []
    },
    {
      "cell_type": "code",
      "metadata": {
        "id": "eUQoyLX5z9BN"
      },
      "source": [
        "#from images import Image\n",
        "\n",
        "def posterize(image, color = (0, 0, 0)):\n",
        "    \"\"\"Converts a color image to two-colors,\n",
        "    one of which it white and the other of which is\n",
        "    either a default of black or a user-specified\n",
        "    RGB value.\"\"\"\n",
        "    whitePixel = (255, 255, 255)\n",
        "    for y in range(image.getHeight()):\n",
        "        for x in range(image.getWidth()):\n",
        "            (r, g, b) = image.getPixel(x, y)\n",
        "            average = (r + g + b) // 3\n",
        "            if average < 128:\n",
        "                image.setPixel(x, y, color)\n",
        "            else:\n",
        "                image.setPixel(x, y, whitePixel)\n",
        "\n",
        "def main():\n",
        "    filename = input(\"Enter the image file name f18.gif \")\n",
        "    red = int(input(\"Enter an integer [0..255] for red: \"))\n",
        "    green = int(input(\"Enter an integer [0..255] for green: \"))\n",
        "    blue = int(input(\"Enter an integer [0..255] for blue: \"))                    \n",
        "    image = Image(filename)\n",
        "    posterize(image, (red, green, blue))\n",
        "    image.draw()\n",
        "\n",
        "if __name__ == \"__main__\":\n",
        "   main()"
      ],
      "execution_count": null,
      "outputs": []
    }
  ]
}