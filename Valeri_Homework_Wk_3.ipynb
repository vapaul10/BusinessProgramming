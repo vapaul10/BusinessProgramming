{
  "nbformat": 4,
  "nbformat_minor": 0,
  "metadata": {
    "colab": {
      "name": "Valeri_Homework_Wk_3.ipynb",
      "provenance": [],
      "collapsed_sections": [],
      "authorship_tag": "ABX9TyM59TyjAJoXf5KoZu1xz2Zc",
      "include_colab_link": true
    },
    "kernelspec": {
      "name": "python3",
      "display_name": "Python 3"
    }
  },
  "cells": [
    {
      "cell_type": "markdown",
      "metadata": {
        "id": "view-in-github",
        "colab_type": "text"
      },
      "source": [
        "<a href=\"https://colab.research.google.com/github/vapaul10/BusinessProgramming/blob/Week-2-Assignments/Valeri_Homework_Wk_3.ipynb\" target=\"_parent\"><img src=\"https://colab.research.google.com/assets/colab-badge.svg\" alt=\"Open In Colab\"/></a>"
      ]
    },
    {
      "cell_type": "code",
      "metadata": {
        "id": "VlHqSjobx6IO",
        "colab_type": "code",
        "colab": {
          "base_uri": "https://localhost:8080/",
          "height": 34
        },
        "outputId": "c0cbd414-d68a-410c-db74-9ef727af9280"
      },
      "source": [
        ">>> for count in range(5):      #  1 2 3 4 5\n",
        "    print(count + 1, end = \" \")\n",
        "    \n",
        ">>> for count in range(1, 4):   #  1 2 3\n",
        "    print(count, end = \" \")\n",
        "    \n",
        ">>> for count in range(1, 6, 2): # 1 3 5\n",
        "    print(count, end = \" \")\n",
        "    \n",
        ">>> for count in range(6, 1, -1):  # 6 5 4 3 2\n",
        "    print(count, end = \" \")"
      ],
      "execution_count": null,
      "outputs": [
        {
          "output_type": "stream",
          "text": [
            "1 2 3 4 5 1 2 3 1 3 5 6 5 4 3 2 "
          ],
          "name": "stdout"
        }
      ]
    },
    {
      "cell_type": "code",
      "metadata": {
        "id": "4gr-6CF8-KWF",
        "colab_type": "code",
        "colab": {}
      },
      "source": [
        ">>> for count in range(100): \n",
        "    print(\"Val\")\n"
      ],
      "execution_count": null,
      "outputs": []
    },
    {
      "cell_type": "code",
      "metadata": {
        "id": "MqVkrrfd-t6q",
        "colab_type": "code",
        "colab": {
          "base_uri": "https://localhost:8080/",
          "height": 86
        },
        "outputId": "a8c88569-c133-45dd-98e6-f4a44fe9b143"
      },
      "source": [
        ">>> letter1 = str(input(\"First letter: \"))\n",
        ">>> letter2 = str(input(\"Next letter:  \"))\n",
        ">>> letter3 = str(input(\"Last letter:  \"))\n",
        ">>> letters = (letter1, letter2, letter3)\n",
        "print(\"%6s%6s%6s\" % letters)"
      ],
      "execution_count": null,
      "outputs": [
        {
          "output_type": "stream",
          "text": [
            "First letter: x\n",
            "Next letter:  y\n",
            "Last letter:  z\n",
            "     x     y     z\n"
          ],
          "name": "stdout"
        }
      ]
    },
    {
      "cell_type": "markdown",
      "metadata": {
        "id": "COqcn75WFGzo",
        "colab_type": "text"
      },
      "source": [
        "# -*- coding: utf-8 -*-\n",
        "\"\"\"\n",
        "number = float(input(\"Enter salary:  \" )\n",
        "# enter salary and organize output\n",
        "\"\"\""
      ]
    },
    {
      "cell_type": "code",
      "metadata": {
        "id": "U5gOqwlDLxK3",
        "colab_type": "code",
        "colab": {
          "base_uri": "https://localhost:8080/",
          "height": 137
        },
        "outputId": "bab09e6f-8a5c-45df-c585-75fad494de9a"
      },
      "source": [
        ">>> salary1 = float(input(\"Enter salary: \" ))\n",
        ">>> salary2 = float(input(\"Next salary: \"))\n",
        ">>> salary3 = float(input(\"Next Salary: \"))\n",
        ">>> salaries = (salary1, salary2, salary3)\n",
        ">>> for number in salaries:\n",
        "    print(\"%12.2f\" % number)\n",
        ">>> pause = str(input(\"Click enter to close\"))\n",
        "\n"
      ],
      "execution_count": 33,
      "outputs": [
        {
          "output_type": "stream",
          "text": [
            "Enter salary: 100000\n",
            "Next salary: 200200\n",
            "Next Salary: 341000\n",
            "   100000.00\n",
            "   200200.00\n",
            "   341000.00\n",
            "Click enter to close\n"
          ],
          "name": "stdout"
        }
      ]
    },
    {
      "cell_type": "code",
      "metadata": {
        "id": "GlsLHmJKo1kX",
        "colab_type": "code",
        "colab": {}
      },
      "source": [
        ""
      ],
      "execution_count": null,
      "outputs": []
    }
  ]
}