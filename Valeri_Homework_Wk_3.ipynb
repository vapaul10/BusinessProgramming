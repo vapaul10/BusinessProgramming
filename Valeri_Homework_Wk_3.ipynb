{
  "nbformat": 4,
  "nbformat_minor": 0,
  "metadata": {
    "colab": {
      "name": "Valeri_Homework_Wk_3.ipynb",
      "provenance": [],
      "collapsed_sections": [],
      "authorship_tag": "ABX9TyMmWxlDMODphhe79x60XZPT",
      "include_colab_link": true
    },
    "kernelspec": {
      "name": "python3",
      "display_name": "Python 3"
    }
  },
  "cells": [
    {
      "cell_type": "markdown",
      "metadata": {
        "id": "view-in-github",
        "colab_type": "text"
      },
      "source": [
        "<a href=\"https://colab.research.google.com/github/vapaul10/BusinessProgramming/blob/Week-3-Assignment/Valeri_Homework_Wk_3.ipynb\" target=\"_parent\"><img src=\"https://colab.research.google.com/assets/colab-badge.svg\" alt=\"Open In Colab\"/></a>"
      ]
    },
    {
      "cell_type": "markdown",
      "metadata": {
        "id": "Ac7zzQy-jFZ_",
        "colab_type": "text"
      },
      "source": [
        "Test run on loops and Ranges and lists "
      ]
    },
    {
      "cell_type": "code",
      "metadata": {
        "id": "VlHqSjobx6IO",
        "colab_type": "code",
        "colab": {
          "base_uri": "https://localhost:8080/",
          "height": 34
        },
        "outputId": "c0cbd414-d68a-410c-db74-9ef727af9280"
      },
      "source": [
        ">>> for count in range(5):      #  1 2 3 4 5\n",
        "    print(count + 1, end = \" \")\n",
        "    \n",
        ">>> for count in range(1, 4):   #  1 2 3\n",
        "    print(count, end = \" \")\n",
        "    \n",
        ">>> for count in range(1, 6, 2): # 1 3 5\n",
        "    print(count, end = \" \")\n",
        "    \n",
        ">>> for count in range(6, 1, -1):  # 6 5 4 3 2\n",
        "    print(count, end = \" \")"
      ],
      "execution_count": null,
      "outputs": [
        {
          "output_type": "stream",
          "text": [
            "1 2 3 4 5 1 2 3 1 3 5 6 5 4 3 2 "
          ],
          "name": "stdout"
        }
      ]
    },
    {
      "cell_type": "code",
      "metadata": {
        "id": "4gr-6CF8-KWF",
        "colab_type": "code",
        "colab": {}
      },
      "source": [
        ">>> for count in range(100): \n",
        "    print(\"Val\")\n"
      ],
      "execution_count": null,
      "outputs": []
    },
    {
      "cell_type": "markdown",
      "metadata": {
        "id": "zMRewxZ5nShT",
        "colab_type": "text"
      },
      "source": [
        "# Section 3.2  Question 3\n",
        "Q3  Write a code segment that displays the values of the integers x, y, and z on a single  line, such that each value is right-justified with a field width of 6. \n",
        "\n"
      ]
    },
    {
      "cell_type": "code",
      "metadata": {
        "id": "MqVkrrfd-t6q",
        "colab_type": "code",
        "colab": {
          "base_uri": "https://localhost:8080/",
          "height": 86
        },
        "outputId": "a8c88569-c133-45dd-98e6-f4a44fe9b143"
      },
      "source": [
        ">>> letter1 = str(input(\"First letter: \"))\n",
        ">>> letter2 = str(input(\"Next letter:  \"))\n",
        ">>> letter3 = str(input(\"Last letter:  \"))\n",
        ">>> letters = (letter1, letter2, letter3)\n",
        "print(\"%6s%6s%6s\" % letters)"
      ],
      "execution_count": null,
      "outputs": [
        {
          "output_type": "stream",
          "text": [
            "First letter: x\n",
            "Next letter:  y\n",
            "Last letter:  z\n",
            "     x     y     z\n"
          ],
          "name": "stdout"
        }
      ]
    },
    {
      "cell_type": "markdown",
      "metadata": {
        "id": "COqcn75WFGzo",
        "colab_type": "text"
      },
      "source": [
        " # Sect 3.2 Question 4\n",
        "4. Write a loop that outputs the numbers in a list named salaries. The outputs should be  formatted in a column that is right-justified, with a field width of 12 and a precision of 2. \n",
        "\n",
        "-*- coding: utf-8 -*-\n",
        "\"\"\"\n",
        "number = float(input(\"Enter salary:  \" )\n",
        "enter salary and organize output\n",
        "\"\"\""
      ]
    },
    {
      "cell_type": "code",
      "metadata": {
        "colab_type": "code",
        "id": "3BqFH9h1jBrz",
        "colab": {
          "base_uri": "https://localhost:8080/",
          "height": 138
        },
        "outputId": "28f2f5e1-8070-4c79-cc39-72d70440da9b"
      },
      "source": [
        ">>> salary1 = float(input(\"Enter salary: \" ))\n",
        ">>> salary2 = float(input(\"Next salary: \" ))\n",
        ">>> salary3 = float(input(\"Next Salary: \" ))\n",
        ">>> salaries = (salary1, salary2, salary3)\n",
        ">>> for number in salaries:\n",
        "    print(\"%12.2f\" % number)\n",
        ">>> pause = str(input(\"Click enter to close\"))\n",
        "\n"
      ],
      "execution_count": null,
      "outputs": [
        {
          "output_type": "stream",
          "text": [
            "Enter salary: 123378\n",
            "Next salary: 100000\n",
            "Next Salary: 120000\n",
            "   123378.00\n",
            "   100000.00\n",
            "   120000.00\n",
            "Click enter to close \n"
          ],
          "name": "stdout"
        }
      ]
    },
    {
      "cell_type": "code",
      "metadata": {
        "id": "U5gOqwlDLxK3",
        "colab_type": "code",
        "colab": {
          "base_uri": "https://localhost:8080/",
          "height": 138
        },
        "outputId": "28f2f5e1-8070-4c79-cc39-72d70440da9b"
      },
      "source": [
        ">>> salary1 = float(input(\"Enter salary: \" ))\n",
        ">>> salary2 = float(input(\"Next salary: \" ))\n",
        ">>> salary3 = float(input(\"Next Salary: \" ))\n",
        ">>> salaries = (salary1, salary2, salary3)\n",
        ">>> for number in salaries:\n",
        "    print(\"%12.2f\" % number)\n",
        ">>> pause = str(input(\"Click enter to close\"))\n",
        "\n"
      ],
      "execution_count": null,
      "outputs": [
        {
          "output_type": "stream",
          "text": [
            "Enter salary: 123378\n",
            "Next salary: 100000\n",
            "Next Salary: 120000\n",
            "   123378.00\n",
            "   100000.00\n",
            "   120000.00\n",
            "Click enter to close \n"
          ],
          "name": "stdout"
        }
      ]
    },
    {
      "cell_type": "code",
      "metadata": {
        "id": "ArhcDRA_jb9M",
        "colab_type": "code",
        "colab": {}
      },
      "source": [
        ""
      ],
      "execution_count": null,
      "outputs": []
    },
    {
      "cell_type": "markdown",
      "metadata": {
        "id": "n55Yp2TJjcoL",
        "colab_type": "text"
      },
      "source": [
        "#3.3. Question 1\n",
        "\n",
        "\"\"\" Assume that x is 3 and y is 5. Write the values of the following expressions: \n",
        "\"\"\"\n",
        "a. x == y\n",
        "\n",
        "b. x> y – 3\n",
        "\n",
        "c. x <= y – 2\n",
        "\n",
        "d. x == y or x > 2\n",
        "\n",
        "e. x != 6 and y > 10\n",
        "\n",
        "f.  x > 0 and x < 100"
      ]
    },
    {
      "cell_type": "code",
      "metadata": {
        "id": "3L7JkPdmjNtV",
        "colab_type": "code",
        "colab": {
          "base_uri": "https://localhost:8080/",
          "height": 34
        },
        "outputId": "b9af259e-cc1c-49b2-b0a8-04747899d860"
      },
      "source": [
        "#3.3Q1a\n",
        ">>> x = 3\n",
        ">>> y = 5\n",
        "\n",
        ">>> x == y"
      ],
      "execution_count": null,
      "outputs": [
        {
          "output_type": "execute_result",
          "data": {
            "text/plain": [
              "False"
            ]
          },
          "metadata": {
            "tags": []
          },
          "execution_count": 16
        }
      ]
    },
    {
      "cell_type": "markdown",
      "metadata": {
        "id": "Uvu4muJElqU6",
        "colab_type": "text"
      },
      "source": [
        "#3.3Q1b"
      ]
    },
    {
      "cell_type": "code",
      "metadata": {
        "id": "AVC6eGxhKHcy",
        "colab_type": "code",
        "colab": {
          "base_uri": "https://localhost:8080/",
          "height": 34
        },
        "outputId": "23d9dcc5-18c2-4559-9c65-a17243d5258f"
      },
      "source": [
        ">>> x = 3\n",
        ">>> y = 5\n",
        ">>> x > y-3\n",
        "\n",
        "\n"
      ],
      "execution_count": null,
      "outputs": [
        {
          "output_type": "execute_result",
          "data": {
            "text/plain": [
              "True"
            ]
          },
          "metadata": {
            "tags": []
          },
          "execution_count": 23
        }
      ]
    },
    {
      "cell_type": "markdown",
      "metadata": {
        "id": "20o40cvnoJtH",
        "colab_type": "text"
      },
      "source": [
        "#3.3Q1c"
      ]
    },
    {
      "cell_type": "code",
      "metadata": {
        "id": "yYppEwc7oSJw",
        "colab_type": "code",
        "colab": {
          "base_uri": "https://localhost:8080/",
          "height": 34
        },
        "outputId": "cf90e8c5-4706-449a-c5eb-2846aa62cdf0"
      },
      "source": [
        ">>> x = 3\n",
        ">>> y = 5\n",
        ">>> x <= y - 2"
      ],
      "execution_count": null,
      "outputs": [
        {
          "output_type": "execute_result",
          "data": {
            "text/plain": [
              "True"
            ]
          },
          "metadata": {
            "tags": []
          },
          "execution_count": 30
        }
      ]
    },
    {
      "cell_type": "markdown",
      "metadata": {
        "id": "RPGoXvHupBa3",
        "colab_type": "text"
      },
      "source": [
        "#3.3Q1d"
      ]
    },
    {
      "cell_type": "code",
      "metadata": {
        "id": "0zsv222jpOsc",
        "colab_type": "code",
        "colab": {
          "base_uri": "https://localhost:8080/",
          "height": 34
        },
        "outputId": "0f0358e8-bc6d-4e0d-8255-52f183a293fc"
      },
      "source": [
        ">>> x = 3\n",
        ">>> y = 5\n",
        ">>> x == y or x > 2"
      ],
      "execution_count": null,
      "outputs": [
        {
          "output_type": "execute_result",
          "data": {
            "text/plain": [
              "True"
            ]
          },
          "metadata": {
            "tags": []
          },
          "execution_count": 31
        }
      ]
    },
    {
      "cell_type": "markdown",
      "metadata": {
        "id": "A-nmRGQ7peUg",
        "colab_type": "text"
      },
      "source": [
        "#3.3Q1e"
      ]
    },
    {
      "cell_type": "code",
      "metadata": {
        "id": "bsFx0EKNpmBR",
        "colab_type": "code",
        "colab": {
          "base_uri": "https://localhost:8080/",
          "height": 34
        },
        "outputId": "41892fd9-e7a1-4881-d2b1-abf3e244c287"
      },
      "source": [
        ">>> x = 3\n",
        ">>> y = 5\n",
        ">>> x != 6 and y > 10"
      ],
      "execution_count": null,
      "outputs": [
        {
          "output_type": "execute_result",
          "data": {
            "text/plain": [
              "False"
            ]
          },
          "metadata": {
            "tags": []
          },
          "execution_count": 33
        }
      ]
    },
    {
      "cell_type": "markdown",
      "metadata": {
        "id": "AY1N8tEMpy0l",
        "colab_type": "text"
      },
      "source": [
        "\n",
        "# 3.3Q1e\n"
      ]
    },
    {
      "cell_type": "code",
      "metadata": {
        "id": "CpvGpvVrppLd",
        "colab_type": "code",
        "colab": {
          "base_uri": "https://localhost:8080/",
          "height": 34
        },
        "outputId": "0fd5444d-2d24-4f6a-c291-eca250511686"
      },
      "source": [
        ">>> x = 3\n",
        ">>> y = 5\n",
        ">>> x > 0 and x < 100 "
      ],
      "execution_count": null,
      "outputs": [
        {
          "output_type": "execute_result",
          "data": {
            "text/plain": [
              "True"
            ]
          },
          "metadata": {
            "tags": []
          },
          "execution_count": 34
        }
      ]
    },
    {
      "cell_type": "markdown",
      "metadata": {
        "id": "xkfU9KPVqGke",
        "colab_type": "text"
      },
      "source": [
        "#3.3 Q2\n",
        "Assume that x refers to a number. Write a code segment that prints the number’s absolute value without using Python’s abs function.\n",
        "\n",
        "import math \n",
        ">>> x = str(input(\"Enter a number greater zero: \"))"
      ]
    },
    {
      "cell_type": "markdown",
      "metadata": {
        "id": "nGtt1_nf83ky",
        "colab_type": "text"
      },
      "source": [
        "#3.3 Q3"
      ]
    },
    {
      "cell_type": "code",
      "metadata": {
        "id": "x7fmg7wUq8X2",
        "colab_type": "code",
        "colab": {}
      },
      "source": [
        "x = float(input(\"Enter a number: \" ))\n",
        ">>> if x < 0:\n",
        "    x = -x\n",
        "    print(-x)\n",
        ">>> else:\n",
        "    print(x)"
      ],
      "execution_count": null,
      "outputs": []
    },
    {
      "cell_type": "markdown",
      "metadata": {
        "id": "DYHTtbMtw7PH",
        "colab_type": "text"
      },
      "source": [
        "# 3.3 Q4 \n",
        "The variables x and y refer to numbers. Write a code segment that prompts the user for an arithmetic operator and prints the value obtained by applying that operator to x and y.\n",
        "\n",
        "\n"
      ]
    },
    {
      "cell_type": "code",
      "metadata": {
        "id": "29hudhp8xCWg",
        "colab_type": "code",
        "colab": {
          "base_uri": "https://localhost:8080/",
          "height": 69
        },
        "outputId": "d80722a2-0559-4e88-8a90-8f184c5b0291"
      },
      "source": [
        ">>> op = str(input(\"Enter an arithmetic operator: \"))\n",
        ">>> if op == \"+\":\n",
        "    print(x + y)\n",
        ">>> elif op == \"-\":\n",
        "    print(x - x)\n",
        ">>> elif op == \"*\":\n",
        "    print(x * y)\n",
        ">>> elif op == \"/\":\n",
        "    print(x / y)\n",
        ">>> else:\n",
        "    print(x % y)\n",
        ">>> pause = input(\"Click enter to close\")"
      ],
      "execution_count": null,
      "outputs": [
        {
          "output_type": "stream",
          "text": [
            "Enter an arithmetic operator: r\n",
            "3.0\n",
            "Click enter to close\n"
          ],
          "name": "stdout"
        }
      ]
    },
    {
      "cell_type": "markdown",
      "metadata": {
        "id": "_orIQZet9C4m",
        "colab_type": "text"
      },
      "source": [
        "3.4 Q1 Conditional Iterations:  **while**loop\n"
      ]
    },
    {
      "cell_type": "code",
      "metadata": {
        "id": "Vb13kYTVw6Rl",
        "colab_type": "code",
        "colab": {}
      },
      "source": [
        ">>> theSum = 0.0\n",
        ">>> data = input(\"Enter a number or just enter to quit:  \")\n",
        ">>> while data !=\" \":\n",
        "   number = float(data)\n",
        "   theSum += number\n",
        "   data = (input(\"Enter a number or just enter to quit: \"))\n",
        "   \n",
        ">>> print(\"The sum is\", theSum)\n"
      ],
      "execution_count": null,
      "outputs": []
    },
    {
      "cell_type": "markdown",
      "metadata": {
        "id": "JYQ6k8GlBeaT",
        "colab_type": "text"
      },
      "source": [
        "3.4 Q2 Conditional Iteration:  "
      ]
    },
    {
      "cell_type": "code",
      "metadata": {
        "id": "XQ1MVDI7Bquq",
        "colab_type": "code",
        "colab": {}
      },
      "source": [
        "import math\n",
        ">>> math.log\n",
        ">>> n = float(input(\"Enter a number:\" ))\n",
        ">>> logbase2 = 0\n",
        ">>> while n > 0:\n",
        "    n //= 2\n",
        "    logbase2 += 1\n",
        ">>> print(logbase2)\n",
        ">>> print(\"Click Enter to Exit program.\" )\n"
      ],
      "execution_count": null,
      "outputs": []
    },
    {
      "cell_type": "markdown",
      "metadata": {
        "id": "kb5cGMQmTcem",
        "colab_type": "text"
      },
      "source": [
        "#3.6 Project 1 Triangle\n",
        "\"\"\"\n",
        "Valeri Paul\n",
        "Fall 2020\n",
        "ISTM 631 Programming for Business Analytics\n",
        "\"\"\""
      ]
    },
    {
      "cell_type": "code",
      "metadata": {
        "id": "5qIp_bfHTbsa",
        "colab_type": "code",
        "colab": {}
      },
      "source": [
        "\n",
        "import math\n",
        "\n",
        "# Inputs\n",
        "tside1 = int(input(\"Enter the first side: \"))\n",
        "tside2 = int(input(\"Enter the second side: \"))\n",
        "tside3 = int(input(\"Enter the third side: \"))\n",
        "\n",
        "# Result and Remarks\n",
        "if tside1 == tside2 and tside2 == tside3:\n",
        "    print(\"The triangle is equilateral.\")\n",
        "else:\n",
        "    print(\"The triangle is not equilateral.\")\n",
        "   \n",
        "pause = str(input(\"Click Enter to End Program: \"))"
      ],
      "execution_count": null,
      "outputs": []
    }
  ]
}